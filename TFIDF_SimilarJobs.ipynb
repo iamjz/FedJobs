{
 "cells": [
  {
   "cell_type": "code",
   "execution_count": 1,
   "metadata": {
    "collapsed": true
   },
   "outputs": [],
   "source": [
    "import csv\n",
    "import os\n",
    "import pandas as pd\n",
    "from sklearn.feature_extraction.text import TfidfVectorizer\n",
    "from sklearn.metrics.pairwise import linear_kernel"
   ]
  },
  {
   "cell_type": "markdown",
   "metadata": {},
   "source": [
    "# Build up my corpus using the scraped data\n",
    "\n",
    "Data was scraped using the \"API_Caller.ipynb\" notebook. You can find all the scraped data in the \"collected_data\" folder. "
   ]
  },
  {
   "cell_type": "code",
   "execution_count": 2,
   "metadata": {
    "collapsed": true
   },
   "outputs": [],
   "source": [
    "# specify resume path.\n",
    "\n",
    "resumePath = \"resumes/jacky.txt\""
   ]
  },
  {
   "cell_type": "code",
   "execution_count": 3,
   "metadata": {
    "scrolled": false
   },
   "outputs": [
    {
     "name": "stdout",
     "output_type": "stream",
     "text": [
      "Importing...  analysis_N_500_20171223141842.csv\n",
      "Success\n",
      "================================================================\n",
      "Importing...  analyst_N_239_20171223115544.csv\n",
      "Success\n",
      "================================================================\n",
      "Importing...  attorney_N_180_20171223141257.csv\n",
      "Success\n",
      "================================================================\n",
      "Importing...  businessintelligence_N_20_20171223115447.csv\n",
      "Success\n",
      "================================================================\n",
      "Importing...  computational_N_17_20171223115812.csv\n",
      "Success\n",
      "================================================================\n",
      "Importing...  covert_N_4_20171223141634.csv\n",
      "Success\n",
      "================================================================\n",
      "Importing...  cyber_N_76_20171223141650.csv\n",
      "Success\n",
      "================================================================\n",
      "Importing...  dataanalyst_N_96_20171223115356.csv\n",
      "Success\n",
      "================================================================\n",
      "Importing...  dataanalytics_N_19_20171223115427.csv\n",
      "Success\n",
      "================================================================\n",
      "Importing...  database_N_500_20171223120145.csv\n",
      "Success\n",
      "================================================================\n",
      "Importing...  dataengineer_N_101_20171223115828.csv\n",
      "Success\n",
      "================================================================\n",
      "Importing...  datamining_N_9_20171223120312.csv\n",
      "Success\n",
      "================================================================\n",
      "Importing...  datascience_N_346_20171223115408.csv\n",
      "Success\n",
      "================================================================\n",
      "Importing...  datascientist_N_28_20171223115414.csv\n",
      "Success\n",
      "================================================================\n",
      "Importing...  datavisualization_N_14_20171223120520.csv\n",
      "Success\n",
      "================================================================\n",
      "Importing...  data_N_500_20171223115517.csv\n",
      "Success\n",
      "================================================================\n",
      "Importing...  developer_N_6_20171223120053.csv\n",
      "Success\n",
      "================================================================\n",
      "Importing...  economist_N_28_20171223115942.csv\n",
      "Success\n",
      "================================================================\n",
      "Importing...  Engineer_N_288_20171223120400.csv\n",
      "Success\n",
      "================================================================\n",
      "Importing...  excel_N_103_20171223120652.csv\n",
      "Success\n",
      "================================================================\n",
      "Importing...  fieldagent_N_19_20171223141802.csv\n",
      "Success\n",
      "================================================================\n",
      "Importing...  freight_N_22_20171223141209.csv\n",
      "Success\n",
      "================================================================\n",
      "Importing...  geospatial_N_33_20171223115329.csv\n",
      "Success\n",
      "================================================================\n",
      "Importing...  geo_N_13_20171223141552.csv\n",
      "Success\n",
      "================================================================\n",
      "Importing...  hadoop_N_1_20171223120334.csv\n",
      "Success\n",
      "================================================================\n",
      "Importing...  healthcare_N_500_20171223141220.csv\n",
      "Success\n",
      "================================================================\n",
      "Importing...  intelligence_N_178_20171223115349.csv\n",
      "Success\n",
      "================================================================\n",
      "Importing...  inventory_N_399_20171223141503.csv\n",
      "Success\n",
      "================================================================\n",
      "Importing...  java_N_25_20171223115802.csv\n",
      "Success\n",
      "================================================================\n",
      "Importing...  lawyer_N_164_20171223141745.csv\n",
      "Success\n",
      "================================================================\n",
      "Importing...  logistics_N_322_20171223121226.csv\n",
      "Success\n",
      "================================================================\n",
      "Importing...  logistics_N_322_20171223141156.csv\n",
      "Success\n",
      "================================================================\n",
      "Importing...  machinelearning_N_6_20171223120128.csv\n",
      "Success\n",
      "================================================================\n",
      "Importing...  management_N_500_20171223141529.csv\n",
      "Success\n",
      "================================================================\n",
      "Importing...  manager_N_500_20171223121148.csv\n",
      "Success\n",
      "================================================================\n",
      "Importing...  manager_N_500_20171223141516.csv\n",
      "Success\n",
      "================================================================\n",
      "Importing...  math_N_117_20171223115905.csv\n",
      "Success\n",
      "================================================================\n",
      "Importing...  MatLab_N_9_20171223120447.csv\n",
      "Success\n",
      "================================================================\n",
      "Importing...  medicaid_N_15_20171223141616.csv\n",
      "Success\n",
      "================================================================\n",
      "Importing...  medical_N_500_20171223141417.csv\n",
      "Success\n",
      "================================================================\n",
      "Importing...  modeling_N_103_20171223120502.csv\n",
      "Success\n",
      "================================================================\n",
      "Importing...  nlp_N_2_20171223121016.csv\n",
      "Success\n",
      "================================================================\n",
      "Importing...  nurse_N_500_20171223141354.csv\n",
      "Success\n",
      "================================================================\n",
      "Importing...  officer_N_500_20171223141329.csv\n",
      "Success\n",
      "================================================================\n",
      "Importing...  operations_N_500_20171223120113.csv\n",
      "Success\n",
      "================================================================\n",
      "Importing...  pharmacy_N_118_20171223141402.csv\n",
      "Success\n",
      "================================================================\n",
      "Importing...  phd_N_79_20171223120553.csv\n",
      "Success\n",
      "================================================================\n",
      "Importing...  Physics_N_344_20171223120633.csv\n",
      "Success\n",
      "================================================================\n",
      "Importing...  pilot_N_69_20171223141340.csv\n",
      "Success\n",
      "================================================================\n",
      "Importing...  powerpoint_N_23_20171223120249.csv\n",
      "Success\n",
      "================================================================\n",
      "Importing...  programmer_N_5_20171223115656.csv\n",
      "Success\n",
      "================================================================\n",
      "Importing...  python_N_17_20171223115724.csv\n",
      "Success\n",
      "================================================================\n",
      "Importing...  qualityassurancetester_N_1_20171223120713.csv\n",
      "Success\n",
      "================================================================\n",
      "Importing...  qualityassurance_N_314_20171223120725.csv\n",
      "Success\n",
      "================================================================\n",
      "Importing...  qualitytester_N_2_20171223120737.csv\n",
      "Success\n",
      "================================================================\n",
      "Importing...  qualitytesting_N_186_20171223120752.csv\n",
      "Success\n",
      "================================================================\n",
      "Importing...  quantitative_N_176_20171223120419.csv\n",
      "Success\n",
      "================================================================\n",
      "Importing...  radio_N_83_20171223141830.csv\n",
      "Success\n",
      "================================================================\n",
      "Importing...  regression_N_5_20171223120932.csv\n",
      "Success\n",
      "================================================================\n",
      "Importing...  reporting_N_500_20171223141248.csv\n",
      "Success\n",
      "================================================================\n",
      "Importing...  security_N_500_20171223141707.csv\n",
      "Success\n",
      "================================================================\n",
      "Importing...  sixsigma_N_6_20171223141604.csv\n",
      "Success\n",
      "================================================================\n",
      "Importing...  software_N_500_20171223115557.csv\n",
      "Success\n",
      "================================================================\n",
      "Importing...  spatial_N_14_20171223115245.csv\n",
      "Success\n",
      "================================================================\n",
      "Importing...  SPSS_N_3_20171223120435.csv\n",
      "Success\n",
      "================================================================\n",
      "Importing...  sql_N_21_20171223120239.csv\n",
      "Success\n",
      "================================================================\n",
      "Importing...  statistical_N_277_20171223120834.csv\n",
      "Success\n",
      "================================================================\n",
      "Importing...  statistician_N_8_20171223115854.csv\n",
      "Success\n",
      "================================================================\n",
      "Importing...  statistics_N_329_20171223115916.csv\n",
      "Success\n",
      "================================================================\n",
      "Importing...  systems_N_500_20171223120219.csv\n",
      "Success\n",
      "================================================================\n",
      "Importing...  tableau_N_2_20171223120948.csv\n",
      "Success\n",
      "================================================================\n",
      "Importing...  technical_N_500_20171223115709.csv\n",
      "Success\n",
      "================================================================\n",
      "Importing...  technician_N_500_20171223141315.csv\n"
     ]
    },
    {
     "name": "stdout",
     "output_type": "stream",
     "text": [
      "Success\n",
      "================================================================\n",
      "Importing...  technology_N_500_20171223120810.csv\n",
      "Success\n",
      "================================================================\n"
     ]
    }
   ],
   "source": [
    "# read in all the job postings\n",
    "\n",
    "corpusDF = pd.DataFrame()\n",
    "\n",
    "for f in os.listdir(\"collected_data/\"):\n",
    "    if (f.endswith(\".csv\")):\n",
    "        \n",
    "        print(\"Importing... \", f)\n",
    "        \n",
    "        filepath = os.path.join(\"collected_data\", f)\n",
    "        \n",
    "        df = pd.read_csv(filepath, encoding = \"ISO-8859-1\")\n",
    "        \n",
    "        df[\"AllDescription\"] = df[\"PositionTitle\"] + \" | \" +  \\\n",
    "                                df[\"URI\"] + \" | \" + df[\"DepartmentName\"]  + \" | \" + \\\n",
    "                                df[\"OrganizationName\"] + \" | \" + f  + \" | \" + \\\n",
    "                                df[\"JobSummary\"] + \" | \" + \\\n",
    "                                df[\"QualificationSummary\"]\n",
    "        \n",
    "        corpusDF = corpusDF.append(df, ignore_index = True)        \n",
    "        \n",
    "        print(\"Success\")\n",
    "        print(\"================================================================\")"
   ]
  },
  {
   "cell_type": "code",
   "execution_count": 4,
   "metadata": {
    "scrolled": false
   },
   "outputs": [
    {
     "data": {
      "text/html": [
       "<div>\n",
       "<style>\n",
       "    .dataframe thead tr:only-child th {\n",
       "        text-align: right;\n",
       "    }\n",
       "\n",
       "    .dataframe thead th {\n",
       "        text-align: left;\n",
       "    }\n",
       "\n",
       "    .dataframe tbody tr th {\n",
       "        vertical-align: top;\n",
       "    }\n",
       "</style>\n",
       "<table border=\"1\" class=\"dataframe\">\n",
       "  <thead>\n",
       "    <tr style=\"text-align: right;\">\n",
       "      <th></th>\n",
       "      <th>ApplicationCloseDate</th>\n",
       "      <th>DepartmentName</th>\n",
       "      <th>JobGrade</th>\n",
       "      <th>JobSummary</th>\n",
       "      <th>MaxPay</th>\n",
       "      <th>MinPay</th>\n",
       "      <th>OfferingType</th>\n",
       "      <th>OrganizationName</th>\n",
       "      <th>PayType</th>\n",
       "      <th>PositionEndDate</th>\n",
       "      <th>PositionID</th>\n",
       "      <th>PositionLocation</th>\n",
       "      <th>PositionStartDate</th>\n",
       "      <th>PositionTitle</th>\n",
       "      <th>QualificationSummary</th>\n",
       "      <th>URI</th>\n",
       "      <th>AllDescription</th>\n",
       "    </tr>\n",
       "  </thead>\n",
       "  <tbody>\n",
       "    <tr>\n",
       "      <th>0</th>\n",
       "      <td>2018-03-31</td>\n",
       "      <td>Department of the Air Force</td>\n",
       "      <td>GS</td>\n",
       "      <td>The mission of the United States Air Force is ...</td>\n",
       "      <td>155073.0</td>\n",
       "      <td>32844.0</td>\n",
       "      <td>Multiple Appointment Types</td>\n",
       "      <td>Air Force Personnel Center</td>\n",
       "      <td>Per Year</td>\n",
       "      <td>2018-03-31</td>\n",
       "      <td>AFPC-ACQEHA-10081352-0560</td>\n",
       "      <td>Gunter AFB, Alabama|Edwards AFB, California|El...</td>\n",
       "      <td>2017-12-01</td>\n",
       "      <td>Budget Analysis</td>\n",
       "      <td>SPECIALIZED EXPERIENCE:\\r\\nGS-05: At least 3 y...</td>\n",
       "      <td>https://www.usajobs.gov:443/GetJob/ViewDetails...</td>\n",
       "      <td>Budget Analysis | https://www.usajobs.gov:443/...</td>\n",
       "    </tr>\n",
       "    <tr>\n",
       "      <th>1</th>\n",
       "      <td>2018-03-31</td>\n",
       "      <td>Department of the Air Force</td>\n",
       "      <td>GS</td>\n",
       "      <td>The mission of the United States Air Force is ...</td>\n",
       "      <td>155073.0</td>\n",
       "      <td>32844.0</td>\n",
       "      <td>Multiple Appointment Types</td>\n",
       "      <td>Air Force Personnel Center</td>\n",
       "      <td>Per Year</td>\n",
       "      <td>2018-03-31</td>\n",
       "      <td>AFPC-FMEDHA-10085353-0560</td>\n",
       "      <td>Eielson AFB, Alaska|Elmendorf AFB, Alaska|Gunt...</td>\n",
       "      <td>2017-12-01</td>\n",
       "      <td>BUDGET ANALYSIS</td>\n",
       "      <td>SPECIALIZED EXPERIENCE:\\r\\nGS-05: At least 3 y...</td>\n",
       "      <td>https://www.usajobs.gov:443/GetJob/ViewDetails...</td>\n",
       "      <td>BUDGET ANALYSIS | https://www.usajobs.gov:443/...</td>\n",
       "    </tr>\n",
       "  </tbody>\n",
       "</table>\n",
       "</div>"
      ],
      "text/plain": [
       "  ApplicationCloseDate               DepartmentName JobGrade  \\\n",
       "0           2018-03-31  Department of the Air Force       GS   \n",
       "1           2018-03-31  Department of the Air Force       GS   \n",
       "\n",
       "                                          JobSummary    MaxPay   MinPay  \\\n",
       "0  The mission of the United States Air Force is ...  155073.0  32844.0   \n",
       "1  The mission of the United States Air Force is ...  155073.0  32844.0   \n",
       "\n",
       "                 OfferingType            OrganizationName   PayType  \\\n",
       "0  Multiple Appointment Types  Air Force Personnel Center  Per Year   \n",
       "1  Multiple Appointment Types  Air Force Personnel Center  Per Year   \n",
       "\n",
       "  PositionEndDate                 PositionID  \\\n",
       "0      2018-03-31  AFPC-ACQEHA-10081352-0560   \n",
       "1      2018-03-31  AFPC-FMEDHA-10085353-0560   \n",
       "\n",
       "                                    PositionLocation PositionStartDate  \\\n",
       "0  Gunter AFB, Alabama|Edwards AFB, California|El...        2017-12-01   \n",
       "1  Eielson AFB, Alaska|Elmendorf AFB, Alaska|Gunt...        2017-12-01   \n",
       "\n",
       "     PositionTitle                               QualificationSummary  \\\n",
       "0  Budget Analysis  SPECIALIZED EXPERIENCE:\\r\\nGS-05: At least 3 y...   \n",
       "1  BUDGET ANALYSIS  SPECIALIZED EXPERIENCE:\\r\\nGS-05: At least 3 y...   \n",
       "\n",
       "                                                 URI  \\\n",
       "0  https://www.usajobs.gov:443/GetJob/ViewDetails...   \n",
       "1  https://www.usajobs.gov:443/GetJob/ViewDetails...   \n",
       "\n",
       "                                      AllDescription  \n",
       "0  Budget Analysis | https://www.usajobs.gov:443/...  \n",
       "1  BUDGET ANALYSIS | https://www.usajobs.gov:443/...  "
      ]
     },
     "execution_count": 4,
     "metadata": {},
     "output_type": "execute_result"
    }
   ],
   "source": [
    "corpusDF.head(2)"
   ]
  },
  {
   "cell_type": "code",
   "execution_count": 5,
   "metadata": {
    "scrolled": true
   },
   "outputs": [
    {
     "data": {
      "text/plain": [
       "14406"
      ]
     },
     "execution_count": 5,
     "metadata": {},
     "output_type": "execute_result"
    }
   ],
   "source": [
    "len(corpusDF)"
   ]
  },
  {
   "cell_type": "markdown",
   "metadata": {},
   "source": [
    "### There may be multiple job postings. I'll need to remove the duplicates based on the job URI. "
   ]
  },
  {
   "cell_type": "code",
   "execution_count": 6,
   "metadata": {},
   "outputs": [
    {
     "data": {
      "text/plain": [
       "5441"
      ]
     },
     "execution_count": 6,
     "metadata": {},
     "output_type": "execute_result"
    }
   ],
   "source": [
    "corpusDF = corpusDF.groupby(\"URI\").first()\n",
    "\n",
    "len(corpusDF)"
   ]
  },
  {
   "cell_type": "code",
   "execution_count": 7,
   "metadata": {},
   "outputs": [
    {
     "data": {
      "text/html": [
       "<div>\n",
       "<style>\n",
       "    .dataframe thead tr:only-child th {\n",
       "        text-align: right;\n",
       "    }\n",
       "\n",
       "    .dataframe thead th {\n",
       "        text-align: left;\n",
       "    }\n",
       "\n",
       "    .dataframe tbody tr th {\n",
       "        vertical-align: top;\n",
       "    }\n",
       "</style>\n",
       "<table border=\"1\" class=\"dataframe\">\n",
       "  <thead>\n",
       "    <tr style=\"text-align: right;\">\n",
       "      <th></th>\n",
       "      <th>ApplicationCloseDate</th>\n",
       "      <th>DepartmentName</th>\n",
       "      <th>JobGrade</th>\n",
       "      <th>JobSummary</th>\n",
       "      <th>MaxPay</th>\n",
       "      <th>MinPay</th>\n",
       "      <th>OfferingType</th>\n",
       "      <th>OrganizationName</th>\n",
       "      <th>PayType</th>\n",
       "      <th>PositionEndDate</th>\n",
       "      <th>PositionID</th>\n",
       "      <th>PositionLocation</th>\n",
       "      <th>PositionStartDate</th>\n",
       "      <th>PositionTitle</th>\n",
       "      <th>QualificationSummary</th>\n",
       "      <th>AllDescription</th>\n",
       "    </tr>\n",
       "    <tr>\n",
       "      <th>URI</th>\n",
       "      <th></th>\n",
       "      <th></th>\n",
       "      <th></th>\n",
       "      <th></th>\n",
       "      <th></th>\n",
       "      <th></th>\n",
       "      <th></th>\n",
       "      <th></th>\n",
       "      <th></th>\n",
       "      <th></th>\n",
       "      <th></th>\n",
       "      <th></th>\n",
       "      <th></th>\n",
       "      <th></th>\n",
       "      <th></th>\n",
       "      <th></th>\n",
       "    </tr>\n",
       "  </thead>\n",
       "  <tbody>\n",
       "    <tr>\n",
       "      <th>https://www.usajobs.gov:443/GetJob/ViewDetails/345265800</th>\n",
       "      <td>2018-02-15</td>\n",
       "      <td>Other Agencies and Independent Organizations</td>\n",
       "      <td>GS</td>\n",
       "      <td>Thisfile serves as a repository of resumes for...</td>\n",
       "      <td>82642.00</td>\n",
       "      <td>20527.00</td>\n",
       "      <td>Multiple Appointment Types</td>\n",
       "      <td>Office of Personnel Management</td>\n",
       "      <td>Per Year</td>\n",
       "      <td>2018-02-15</td>\n",
       "      <td>US OPM Veteran File</td>\n",
       "      <td>San Francisco, California|Denver, Colorado|Was...</td>\n",
       "      <td>2017-02-16</td>\n",
       "      <td>U.S. OPM Veteran File</td>\n",
       "      <td>As positions become available and hiring offic...</td>\n",
       "      <td>U.S. OPM Veteran File | https://www.usajobs.go...</td>\n",
       "    </tr>\n",
       "    <tr>\n",
       "      <th>https://www.usajobs.gov:443/GetJob/ViewDetails/357639200</th>\n",
       "      <td>2018-01-03</td>\n",
       "      <td>Department of the Air Force</td>\n",
       "      <td>WG</td>\n",
       "      <td>Air Reserve Technicians are part of the regula...</td>\n",
       "      <td>26.18</td>\n",
       "      <td>22.45</td>\n",
       "      <td>Multiple Appointment Types</td>\n",
       "      <td>Headquarters, Air Force Reserve Command</td>\n",
       "      <td>Per Hour</td>\n",
       "      <td>2018-01-03</td>\n",
       "      <td>SEU-SR-Elec Int Sys Mech</td>\n",
       "      <td>Elmendorf AFB, Alaska|Maxwell AFB, Alabama|Lit...</td>\n",
       "      <td>2017-01-04</td>\n",
       "      <td>Electronic Integrated System Mechanic (Militar...</td>\n",
       "      <td>A specific length of experience or training is...</td>\n",
       "      <td>Electronic Integrated System Mechanic (Militar...</td>\n",
       "    </tr>\n",
       "  </tbody>\n",
       "</table>\n",
       "</div>"
      ],
      "text/plain": [
       "                                                   ApplicationCloseDate  \\\n",
       "URI                                                                       \n",
       "https://www.usajobs.gov:443/GetJob/ViewDetails/...           2018-02-15   \n",
       "https://www.usajobs.gov:443/GetJob/ViewDetails/...           2018-01-03   \n",
       "\n",
       "                                                                                  DepartmentName  \\\n",
       "URI                                                                                                \n",
       "https://www.usajobs.gov:443/GetJob/ViewDetails/...  Other Agencies and Independent Organizations   \n",
       "https://www.usajobs.gov:443/GetJob/ViewDetails/...                   Department of the Air Force   \n",
       "\n",
       "                                                   JobGrade  \\\n",
       "URI                                                           \n",
       "https://www.usajobs.gov:443/GetJob/ViewDetails/...       GS   \n",
       "https://www.usajobs.gov:443/GetJob/ViewDetails/...       WG   \n",
       "\n",
       "                                                                                           JobSummary  \\\n",
       "URI                                                                                                     \n",
       "https://www.usajobs.gov:443/GetJob/ViewDetails/...  Thisfile serves as a repository of resumes for...   \n",
       "https://www.usajobs.gov:443/GetJob/ViewDetails/...  Air Reserve Technicians are part of the regula...   \n",
       "\n",
       "                                                      MaxPay    MinPay  \\\n",
       "URI                                                                      \n",
       "https://www.usajobs.gov:443/GetJob/ViewDetails/...  82642.00  20527.00   \n",
       "https://www.usajobs.gov:443/GetJob/ViewDetails/...     26.18     22.45   \n",
       "\n",
       "                                                                  OfferingType  \\\n",
       "URI                                                                              \n",
       "https://www.usajobs.gov:443/GetJob/ViewDetails/...  Multiple Appointment Types   \n",
       "https://www.usajobs.gov:443/GetJob/ViewDetails/...  Multiple Appointment Types   \n",
       "\n",
       "                                                                           OrganizationName  \\\n",
       "URI                                                                                           \n",
       "https://www.usajobs.gov:443/GetJob/ViewDetails/...           Office of Personnel Management   \n",
       "https://www.usajobs.gov:443/GetJob/ViewDetails/...  Headquarters, Air Force Reserve Command   \n",
       "\n",
       "                                                     PayType PositionEndDate  \\\n",
       "URI                                                                            \n",
       "https://www.usajobs.gov:443/GetJob/ViewDetails/...  Per Year      2018-02-15   \n",
       "https://www.usajobs.gov:443/GetJob/ViewDetails/...  Per Hour      2018-01-03   \n",
       "\n",
       "                                                                  PositionID  \\\n",
       "URI                                                                            \n",
       "https://www.usajobs.gov:443/GetJob/ViewDetails/...       US OPM Veteran File   \n",
       "https://www.usajobs.gov:443/GetJob/ViewDetails/...  SEU-SR-Elec Int Sys Mech   \n",
       "\n",
       "                                                                                     PositionLocation  \\\n",
       "URI                                                                                                     \n",
       "https://www.usajobs.gov:443/GetJob/ViewDetails/...  San Francisco, California|Denver, Colorado|Was...   \n",
       "https://www.usajobs.gov:443/GetJob/ViewDetails/...  Elmendorf AFB, Alaska|Maxwell AFB, Alabama|Lit...   \n",
       "\n",
       "                                                   PositionStartDate  \\\n",
       "URI                                                                    \n",
       "https://www.usajobs.gov:443/GetJob/ViewDetails/...        2017-02-16   \n",
       "https://www.usajobs.gov:443/GetJob/ViewDetails/...        2017-01-04   \n",
       "\n",
       "                                                                                        PositionTitle  \\\n",
       "URI                                                                                                     \n",
       "https://www.usajobs.gov:443/GetJob/ViewDetails/...                              U.S. OPM Veteran File   \n",
       "https://www.usajobs.gov:443/GetJob/ViewDetails/...  Electronic Integrated System Mechanic (Militar...   \n",
       "\n",
       "                                                                                 QualificationSummary  \\\n",
       "URI                                                                                                     \n",
       "https://www.usajobs.gov:443/GetJob/ViewDetails/...  As positions become available and hiring offic...   \n",
       "https://www.usajobs.gov:443/GetJob/ViewDetails/...  A specific length of experience or training is...   \n",
       "\n",
       "                                                                                       AllDescription  \n",
       "URI                                                                                                    \n",
       "https://www.usajobs.gov:443/GetJob/ViewDetails/...  U.S. OPM Veteran File | https://www.usajobs.go...  \n",
       "https://www.usajobs.gov:443/GetJob/ViewDetails/...  Electronic Integrated System Mechanic (Militar...  "
      ]
     },
     "execution_count": 7,
     "metadata": {},
     "output_type": "execute_result"
    }
   ],
   "source": [
    "corpusDF.head(2)"
   ]
  },
  {
   "cell_type": "code",
   "execution_count": 8,
   "metadata": {},
   "outputs": [
    {
     "data": {
      "text/plain": [
       "5441"
      ]
     },
     "execution_count": 8,
     "metadata": {},
     "output_type": "execute_result"
    }
   ],
   "source": [
    "corpus = []\n",
    "corpusDF[\"AllDescription\"].apply(lambda row: corpus.append(row))\n",
    "len(corpus)"
   ]
  },
  {
   "cell_type": "code",
   "execution_count": 9,
   "metadata": {},
   "outputs": [
    {
     "data": {
      "text/plain": [
       "'Physician (Emergency Medicine) | https://www.usajobs.gov:443/GetJob/ViewDetails/469718300 | Department of Veterans Affairs | Veterans Affairs, Veterans Health Administration | medical_N_500_20171223141417.csv | Salem VA Medical Center, an H-1B cap exempt, tertiary referral center is currently\\r\\nrecruiting interested Emergency Medicine practitioners to join its experienced\\r\\nstaff of physicians and health professionals as a staff physician in the\\r\\nDepartment of Medicine at the Medical Center. In addition to our continuing commitment to\\r\\nquality Veteran care, Salem VA Medical Center is also a teaching hospital and\\r\\nresearch center, maintaining both an active R&amp;D program encompassing multiple\\r\\nspecialty practices as well as three active medical school affiliations with\\r\\nthe University of Virginia School of Medicine, the Edward Via Virginia College\\r\\nof Osteopathic Medicine, and the Virginia Tech Carilion School of Medicine. The VA Medical Center\\r\\nof Salem, Virginia is located adjacent to'"
      ]
     },
     "execution_count": 9,
     "metadata": {},
     "output_type": "execute_result"
    }
   ],
   "source": [
    "corpus[300][:1000]"
   ]
  },
  {
   "cell_type": "markdown",
   "metadata": {},
   "source": [
    "## Prepend my resume onto the corpus list"
   ]
  },
  {
   "cell_type": "code",
   "execution_count": 10,
   "metadata": {
    "collapsed": true
   },
   "outputs": [],
   "source": [
    "file = open(resumePath, \"r\")\n",
    "resume = file.read()\n",
    "\n",
    "# preprend to corpus\n",
    "corpus.insert(0, resume)"
   ]
  },
  {
   "cell_type": "code",
   "execution_count": 11,
   "metadata": {},
   "outputs": [
    {
     "data": {
      "text/plain": [
       "'Relevant Coursework: Machine Learning, High Performance Computing, Predictive Analytics, Advanced Statistics, Natural Language Processing University of Michigan                                        Ann Arbor, MI Bachelor of Science: Industrial and Operations EngineeringDate of Graduation: April 2011Relevant Coursework: Software Development, Optimization Methods, Linear Statistical Models, Markov Process, Operations Modeling, Statistics ASQ Certified Six Sigma Black BeltLicense Number: 12771 WORK EXPERIENCE: Accenture                                                            Austin, TX  Senior Software Development Engineer                                                                       May 2014 – Present  ?Developed and maintained healthcare web applications (.NET MVC C#, HTML, Javascript, CSS, SQL Server) for the Texas Health and Human Services Commission (HHSC) to process Medicaid claims, patient forms, and physician inventory status. Collaborated with clients to translate bu'"
      ]
     },
     "execution_count": 11,
     "metadata": {},
     "output_type": "execute_result"
    }
   ],
   "source": [
    "# make sure that the first entry is the resume\n",
    "\n",
    "corpus[0][:1000]"
   ]
  },
  {
   "cell_type": "markdown",
   "metadata": {},
   "source": [
    "## Build TF-IDF vectorizer and matrix"
   ]
  },
  {
   "cell_type": "code",
   "execution_count": 12,
   "metadata": {
    "collapsed": true
   },
   "outputs": [],
   "source": [
    "tf = TfidfVectorizer(analyzer = \"word\", \n",
    "                        ngram_range = (1, 3),\n",
    "                        min_df = 0, \n",
    "                        stop_words = \"english\")"
   ]
  },
  {
   "cell_type": "code",
   "execution_count": 13,
   "metadata": {
    "collapsed": true
   },
   "outputs": [],
   "source": [
    "matrix = tf.fit_transform(corpus)"
   ]
  },
  {
   "cell_type": "markdown",
   "metadata": {},
   "source": [
    "## Find similar jobs using cosine similarity"
   ]
  },
  {
   "cell_type": "code",
   "execution_count": 14,
   "metadata": {
    "collapsed": true
   },
   "outputs": [],
   "source": [
    "def find_similar(matrix, index, top_n = 10):\n",
    "    cosine_similarities = linear_kernel(matrix[index: index + 1], matrix).flatten()\n",
    "    related_docs_indices = [i for i in cosine_similarities.argsort()[::-1] if i != index]\n",
    "    return [(index, cosine_similarities[index]) for index in related_docs_indices][0:top_n]"
   ]
  },
  {
   "cell_type": "markdown",
   "metadata": {},
   "source": [
    "## Let's test this out"
   ]
  },
  {
   "cell_type": "code",
   "execution_count": 15,
   "metadata": {
    "scrolled": false
   },
   "outputs": [
    {
     "name": "stdout",
     "output_type": "stream",
     "text": [
      "RESUME:\n",
      "\n",
      "Relevant Coursework: Machine Learning, High Performance Computing, Predictive Analytics, Advanced Statistics, Natural Language Processing University of Michigan                                        Ann Arbor, MI Bachelor of Science: Industrial and Operations EngineeringDate of Graduation: April 2011Relevant Coursework: Software Development, Optimization Methods, Linear Statistical Models, Markov Process, Operations Modeling, Statistics ASQ Certified Six Sigma Black BeltLicense Number: 12771 WORK EXPERIENCE: Accenture                                                            Austin, TX  Senior Software Development Engineer                                                                       May 2014 – Present  ?Developed and maintained healthcare web applications (.NET MVC C#, HTML, Javascript, CSS, SQL Server) for the Texas Health and Human Services Commission (HHSC) to process Medicaid claims, patient forms, and physician inventory status. Collaborated with clients to translate business objectives into system requirements. Managed analysis and code-reviews for junior developers.?Redesigned and built a new caching system as a microservice in Azure Service Fabric. Pioneered the use of distributed systems for reliable and scalable applications in the Austin office. Developed a RESTful API for clients to consume the Cache microservice. Led the effort in transitioning 6 enterprise apps from a legacy cache architecture to the new Cache microservice in Service Fabric.?Acted as the Project Manager and Lead Developer to build an internal data analytics platform called “SHERLOCK”. Created the project charter and conducted a feasibility study to examine the high-level goals. Presented the executive plan for scope approval and project kickoff. Managed 3 junior engineers on product development and quality control. SHERLOCK reduced on-call troubleshooting time by over 60%, allowed executives to drill down into real-time issues, and streamlined analyst support tasks. Initial prototype was built with Python. End-product was built with MVC C#, Bootstrap, ChartJS, Javascript, and SQL Server. ?Led the automated functional testing initiative as a Solutions Architect using SilkTest. Created a database-driven test protocol for 3 enterprise applications which reduced manual testing time by 93%. Trained analysts on testing standards and quality control.  ?Recipient of three Accenture Executive Recognition Awards (October 2014, January 2016, and August 2016).Samsung Electronics                                                                           Austin, TX Lead Industrial Engineer – Supply Chain Management              April 2013 – May 2014  ?Recruited as the lead engineer to start up the \"Supply Chain Management - CRC\" group. Managed a team of operators and technicians to create and grow the Repair Center, Clean Parts Warehouse, and Calibration Command Center. Formulated and rolled out a business strategy to align with HQ and reduce average equipment parts expenditure by $1.5 million per month.  ?Designed and coded inventory management applications, KPI dashboards, and task dispatching systems in ASP.NET (C#, HTML, CSS, Javascript) and SQL Server. Developed an automated performance index to grade vendors based on turnaround-time, cost, quality, and customer service. Provided data insights and forecasts to CFO and VP of Operations.  Cypress Semiconductor (formerly Spansion)                                                       Austin, TX  Industrial Engineer I – Decision Support Systems                  June 2011 – Nov 2012 Industrial Engineer II – Decision Support Systems                                                             Nov 2012 – April 2013  ?Led continuous improvement and business intelligence teams across multiple departments to reduce average costs of over $350k/year.  Designed a real-time dispatching algorithm and programmed an automation system across the factory floor to reduce the lot creation process by over 80%. Streamlined the manual workflow and eliminated logging errors for operators.  ?Built tool capacity models to dynamically forecast activities and tool availability.  Revamped a “Work-In-Process” inventory pacing application for managers to gauge to the performance of the facility. Created web dashboards and reports using ASP.NET (C#), HTML, Javascript and Oracle to display key performance indicators and isolate root causes of underlying problems.INDEPENDENT PROJECTS: Data Analysis on Substance Abuse and Psychiatric Disorders (using Python) ?Performed analysis on the “U.S National Epidemiological Survey on Alcohol and Related Conditions (NESARC)” dataset using inferential statistics (ANOVA, Chi-Square, and Pearson Correlation) to find associations between smoking and depression.  ?Developed predictive models (Multivariate Linear and Logistic Regression) to forecast nicotine-dependent symptoms in individuals. Utilized machine learning and data-mining techniques (Decision Trees, Random Forests, and K-Means Cluster) to identify subsets of individuals at the greatest risk for health problems based on various behavior and substance abuse. \n",
      "\n",
      "============================================================================\n",
      "\n",
      "MATCHED JOBS: \n",
      "\n",
      "\n",
      "\n",
      "0.0449940422832 Programmer/Software Engineer | https://www.usajobs.gov:443/GetJob/ViewDetails/487299700 | Other Agencies and Independent Organizations | Appalachian Regional Commission | database_N_500_20171223120145.csv | The Appalachian Regional Commission (ARC) is a regional economic development agency that represents a unique partnership between the Federal and State governments. ARC&#39;s mission is to be a strategic partner and advocate for sustainable community and economic development in Appalachia. This position is responsible for maintaining the business grant management system (ARCnet) of the agency. The primary and critical work of this position is to work collaboratively with the System Administrator on the design and development ARCNET then lead the preparation and implementation of code enhancements to the ARCnet. The position is involved in all work that involves the design, documentation, development, modification, testing, installation, implementation, and support of new or existing applications software. The position reports to the IT Program Manager and works collaboratively with the System Administrator. ARC is located in the vibrant Dupont Circle area, offers a competitive compensation/benefits package, and provides a dynamic career opportunity to lead and develop our database strategy. | Knowledge of and skill in applying applications software development principles and methods sufficient to participate in the design, development, testing, and implementation of new or modified applications software.\n",
      "Knowledge and experience working in an Agile Environment Technologies C# - Expert-level implementation skills with C# and the .NET platform. SCM - Strong experience working with an SCM tool like Team Foundation Server, Subversion or Git. ASP.NET - Strong implementation skills with ASP.NET including experience with building custom controls and developing with the ASP.NET MVC framework. Database - Strong experience with Microsoft LINQ or ADO.NET. Must be highly proficient in SQL preferably across multiple databases. Expert in SQL Sever Integration Services (SSIS) Web - Strong experience building modern web applications using frameworks like jQuery, jQuery UI, and Bootstrap. General - Comfortable in more than one programming language with a strong understanding of fundamental web/internet technologies. Customer Service - Works with clients and customers to assess their needs, provide information or assistance, resolve their problems, or satisfy their expectations.\n",
      "Verbal Communication - Expresses information to individuals or groups effectively, taking into account the audience and nature of the information; makes clear and convincing oral presentations; listens to others, attends to nonverbal cues, and responds appropriately.\n",
      "Problem Solving - Identifies problems; determines accuracy and relevance of information; uses sound judgment to generate and evaluate alternatives, and to make recommendations to complex and multi-faceted problems.\n",
      "Abili\n",
      "\n",
      "...next job...\n",
      "\n",
      "\n",
      "0.0402879838578 GEOINT Analyst (Data Science) | https://www.usajobs.gov:443/GetJob/ViewDetails/480935400 | Department of Defense | National Geospatial-Intelligence Agency | analyst_N_239_20171223115544.csv | JOB DESCRIPTION: GEOINT Analysts (Data Science) develop and apply methods to identify, collect, process, and analyze large volumes of data to build and enhance GEOINT products, processes, and systems. They conduct data mining and retrieval, and apply statistical and mathematical analyses to identify trends, solve analytical problems, optimize performance, and gather intelligence. They visualize information using a range of tools (e.g., GIS, R), develop scripts and algorithms, create explanatory and predictive models, and conduct comparative analyses to address complex military and intelligence problems. | DESIRABLE QUALIFICATION CRITERIA: In addition to the mandatory qualifications, experience in the following is desired: 1) Education: Applied Mathematics, Computer Science, Data Science, Geographic Information Science, Informatics and Computing, Information Science, Operations Research, Statistics, or a related discipline;\n",
      "2) Experience: Software Coding: C++ Java, AND/OR Statistics & Modeling: R, Python, AND/OR Query Languages: SQL, NoSQL, AND/OR Scripting: JavaScript, Python, Cloud Services Design, Algorithm Development, Data Visualization, Big Data /Data Modeling, Machine Vision & Deep Learning, Optimization.\n",
      "\n",
      "...next job...\n",
      "\n",
      "\n",
      "0.038760720902 IT Software Developer | https://www.usajobs.gov:443/GetJob/ViewDetails/481494200 | Department of Defense | National Geospatial-Intelligence Agency | analysis_N_500_20171223141842.csv | JOB DESCRIPTION: IT Software Developers analyze customer and system requirements, evaluate alternative approaches, design and develop solutions tailored to specific Agency, systems, and customer requirements, and lead the testing and integration of new and modified solutions into the system. They review and provide guidance on software developed by vendors; test software developed internally and by vendors; and quickly respond to urgent situations to develop and deliver unique solutions to customer problems. They plan and design systems architecture, write and maintain software program documentation, investigate and evaluate new software technologies, and ensure the rigorous application of information security/information assurance policies, principles, and practices to the delivery of application software services. | DESIRABLE QUALIFICATION CRITERIA: In addition to the mandatory qualifications, experience in the following is desired: Pay Band 2:\n",
      "1.) Programing experience in C, C++, Python, Perl, Ruby, JavaScript or Java;\n",
      "2.) Software development principles, methods, and tools for designing, developing, coding, testing and deploying software; experience working in an agile environment. Pay Band 3:\n",
      "1.) Solid foundation in computer science, with strong competencies in data structures, algorithms, logic/computation, and software design;\n",
      "2.) Skills in AJAX, JavaScript, database design, SQL, and/or knowledge of TCP/IP and network programming;\n",
      "3.) Cloud design principles, system design and engineering principles, methods, and tools for integrating components (e.g., network equipment, protocols, telephony) into a functional system or prototype;\n",
      "4.) Computer/network security concepts/principles, theories, and methods for the design, development, analysis, testing, and securing of computer networks;\n",
      "5.) Experience with Geographical/Spatial Information Systems, Amazon Web Services (AWS) cloud infrastructure, web applications and/or large systems software design and development, with extensive knowledge of Unix/Linux.\n",
      "\n",
      "...next job...\n",
      "\n",
      "\n",
      "0.038760720902 IT Software Developer | https://www.usajobs.gov:443/GetJob/ViewDetails/481494300 | Department of Defense | National Geospatial-Intelligence Agency | analysis_N_500_20171223141842.csv | JOB DESCRIPTION: IT Software Developers analyze customer and system requirements, evaluate alternative approaches, design and develop solutions tailored to specific Agency, systems, and customer requirements, and lead the testing and integration of new and modified solutions into the system. They review and provide guidance on software developed by vendors; test software developed internally and by vendors; and quickly respond to urgent situations to develop and deliver unique solutions to customer problems. They plan and design systems architecture, write and maintain software program documentation, investigate and evaluate new software technologies, and ensure the rigorous application of information security/information assurance policies, principles, and practices to the delivery of application software services. | DESIRABLE QUALIFICATION CRITERIA: In addition to the mandatory qualifications, experience in the following is desired: Pay Band 2:\n",
      "1.) Programing experience in C, C++, Python, Perl, Ruby, JavaScript or Java;\n",
      "2.) Software development principles, methods, and tools for designing, developing, coding, testing and deploying software; experience working in an agile environment. Pay Band 3:\n",
      "1.) Solid foundation in computer science, with strong competencies in data structures, algorithms, logic/computation, and software design;\n",
      "2.) Skills in AJAX, JavaScript, database design, SQL, and/or knowledge of TCP/IP and network programming;\n",
      "3.) Cloud design principles, system design and engineering principles, methods, and tools for integrating components (e.g., network equipment, protocols, telephony) into a functional system or prototype;\n",
      "4.) Computer/network security concepts/principles, theories, and methods for the design, development, analysis, testing, and securing of computer networks;\n",
      "5.) Experience with Geographical/Spatial Information Systems, Amazon Web Services (AWS) cloud infrastructure, web applications and/or large systems software design and development, with extensive knowledge of Unix/Linux.\n",
      "\n",
      "...next job...\n",
      "\n",
      "\n",
      "0.0349409078687 Data Engineer | https://www.usajobs.gov:443/GetJob/ViewDetails/480935200 | Department of Defense | National Geospatial-Intelligence Agency | computational_N_17_20171223115812.csv | JOB DESCRIPTION: Data Engineers develop, construct, test, and maintain architectures such as databases and large-scale data processing systems. They clean, prepare, and optimize data for consumption through the design and construction of massive reservoirs for big data. They solve problems associated with database access and integration and unstructured data sets to provide clean, usable data for customers and IT counterparts. These engineers serve as integrators between data architects, data scientists, and other data consumers. They apply knowledge of scripting tools, programming languages, standards, and software packages to build the data pipelines that enable faster, better, data-informed decision-making within the Agency. | 1) Education: Computer Science, Applied Mathematics, Management Information Systems, Engineering, Physical Sciences, or any other technology related field;\n",
      "2) Experience: Software Coding: C++ Java, AND/OR Statistics & Modeling: R, Python, AND/OR Query Languages: SQL, NoSQL, AND/OR Scripting: JavaScript, Python, Cloud Services Design, Algorithm Development, Data Visualization, Big Data /Data Modeling, Machine Vision & Deep Learning, Optimization.\n",
      "\n",
      "...next job...\n",
      "\n",
      "\n",
      "0.0342230038869 Data Analyst | https://www.usajobs.gov:443/GetJob/ViewDetails/480934900 | Department of Defense | National Geospatial-Intelligence Agency | analysis_N_500_20171223141842.csv | JOB DESCRIPTION: Data Analysts apply tools and algorithms to identify trends and patterns in data. They communicate with stakeholders and conduct research to develop an understanding of relevant programs and requirements. These analysts identify and collect data from various sources, evaluate the data to ensure that they meet analytic needs, and prepare the data for analysis. They also select, apply, and assess analytic models and techniques, and review and verify the results. They prepare reports and briefings and consult with stakeholders to communicate findings. | DESIRABLE QUALIFICATION CRITERIA: In addition to the mandatory qualifications, experience in the following is desired: 1) Education: Applied Mathematics, Computer Science, Data Science, Geographic Information Science, Informatics and Computing, Information Science, Operations Research, Statistics, or a related discipline;\n",
      "2) Experience: Software Coding: C++ Java, AND/OR Statistics & Modelling: R, Python, AND/OR Query Languages: SQL, NoSQL, AND/OR Scripting: JavaScript, Python, Cloud Services Design, Algorithm Development, Data Visualization, Big Data /Data Modelling, Machine Vision & Deep Learning, Optimization.\n",
      "\n",
      "...next job...\n",
      "\n",
      "\n",
      "0.0328496581965 Programmer Analyst-Business Intelligence NF4 | https://www.usajobs.gov:443/GetJob/ViewDetails/487184900 | Department of the Navy | U.S. Marine Corps | analyst_N_239_20171223115544.csv | Marine Corps Community Services (MCCS)is looking for the best and brightest to join our Team! MCCSis a comprehensive program that supports and enhances the quality of life for Marines, their families, and others in the Marine Corps Community.Weoffer a team oriented environment comprised of military personnel, civilian employees, contractors and volunteers who keep the organization functioning smoothly and effectively. As a service-oriented organization, we never waver in our commitment to our Corps. | Bachelor&rsquo;s degree in Information Technology, Computer Science or a related field appropriate to the work of position AND three years of progressively technical experience in working with Business Intelligence or Decision Support solutions as a technical resource that demonstrates knowledge of software design principles, methods, approaches, and procedures to design, develop, optimize and integrate system components, OR an appropriate combination of education and experience that demonstrates possession of knowledge and skill equivalent to that gained in the above, OR appropriate experience that demonstrates that the applicant has acquired the knowledge, skills, and abilities equivalent to that gained in the above.Knowledge of pertinent government requirements and database management principles such as data structures, data modeling and data warehousing to design, debug and maintain software applications that meet technical and functional requirements. Skill to design and develop efficient and effective applications through use of reusable components, and ensure applications comply with requirements and are consistent with current and planned infrastructure and data environments. Strong understanding of relational database management systems and states of data presented in various data repositories. Strong working knowledge of SQL, UNIX, and Windows. Experience with Oracle RDBMS, Oracle Warehouse Builder, Oracle Data Integrator, Oracle PL/SQL and Cognos Analytics 10/11 to include Framework Manager is preferred. Good understanding of Business Intelligence tools like MicroStrategy and Tableau with Junior developer skills preferred. Knowledge and experience with design, development and testing metadata models is required. Working knowledge and experience applying BI solutions to business activities to include but not limited to: Finance, Procurement, Retail, Human Resources, Construction is preferred.\tCreative with a clear record of innovation and &ldquo;doing more with less.&rdquo;\tPolished and sophisticated programmer/analyst with strong presence. Assertive, but not aggressive or arrogant style.\tCommitment to excellence and continuous improvement; proactively seeks feedback.\tSelf-motivated, self-disciplined, self-assured, and performance driven.\tProactive, passion\n",
      "\n",
      "...next job...\n",
      "\n",
      "\n",
      "0.0289077731854 GEOINT Analyst (Geospatial Data Stewardship) | https://www.usajobs.gov:443/GetJob/ViewDetails/480935500 | Department of Defense | National Geospatial-Intelligence Agency | analysis_N_500_20171223141842.csv | JOB DESCRIPTION: GEOINT Analysts (Geospatial Data Stewardship) manage the generation, approval, and population of data within NGA's geospatial databases, ensuring that they can be used to satisfy customer requirements. They have read/write access to relevant databases and make qualitative decisions about the data. They have a wide range of product/data knowledge and understand the capabilities and limitations of the relevant systems to support the extraction, analysis, and finishing of in-house, co-production, commodity, and contract data. | DESIRABLE QUALIFICATION CRITERIA: In addition to the mandatory qualifications, experience in the following is desired: 1) Education: Cartography, Computer Science, Geology, Geography, Geomatics, GIS, Physical Science, Urban and Regional Planning, or a related discipline;\n",
      "2) Experience: Software Coding: C++ Java, AND/OR Statistics & Modelling: R, Python, AND/OR Query Languages: SQL, NoSQL, AND/OR Scripting: JavaScript, Python, Cloud Services Design, Algorithm Development, Data Visualization, Big Data /Data Modelling, Machine Vision & Deep Learning, Optimization.\n",
      "\n",
      "...next job...\n",
      "\n",
      "\n",
      "0.028002496336 Data Architect NF4 | https://www.usajobs.gov:443/GetJob/ViewDetails/485768400 | Department of the Navy | U.S. Marine Corps | analyst_N_239_20171223115544.csv | Marine Corps Community Services (MCCS)is looking for the best and brightest to join our Team! MCCSis a comprehensive program that supports and enhances the quality of life for Marines, their families, and others in the Marine Corps Community.Weoffer a team oriented environment comprised of military personnel, civilian employees, contractors and volunteers who keep the organization functioning smoothly and effectively. As a service-oriented organization, we never waver in our commitment to our Corps. | Bachelor&rsquo;s degree in Engineering, Computer Science, Information Technology or a related field appropriate to the work of position and three years of progressive experience as a Data Architect and Data Analyst with architectural knowledge of establishing and implementing BI environments and hands on expert level expertise in designing, developing and testing Business Intelligence systems or an appropriate combination of education and experience that demonstrates possession of knowledge and skill equivalent to that gained in the above, or appropriate experience that demonstrates that the applicant has acquired the knowledge, skills, and abilities equivalent to that gained in the above. Comprehensive knowledge of SQL, cardinality, levels of granularity, normalized vs. denormalized, database and tool optimization techniques and other such reporting data architecture best practices is required. Knowledge and experience in implementing a data warehouse is required. Ability to outline the architecture and understand the benefits of data warehousing. Preferred skills include:\tUse of Cognos Framework Manager, Report Studio, and Query Studio;\tHigh level proficiency and experience with ETL tools such Oracle Warehouse Builder (OWB) , Oracle Data Integrator (ODI) and Informatica;\tExperience with Data Modelling tools such as ERWIN;\tExperience with Master Data Management tools;\tExperience with Microsoft SQL Server tools such SSIS; and\tExposure to Cloud Technologies preferred.As an authorized and privileged user of Department of Defense Information Systems must possess or receive Information Assurance awareness by completing the Security+ Certification as a condition of access within six months of employment, and thereafter must complete annual Information Assurance awareness training.\n",
      "\n",
      "...next job...\n",
      "\n",
      "\n",
      "0.0261529978048 Interdisciplinary Engineer | https://www.usajobs.gov:443/GetJob/ViewDetails/486642500 | Department of Defense | Defense Contract Management Agency | dataengineer_N_101_20171223115828.csv | Join Team DCMA -- Challenge yourself! The Defense Contract Management Agency serves as the independent eyes and ears of the Department of Defense (DoD) and its partners, delivering actionable acquisition insight from the factory floor to the front line around the world. We are an independent combat support agency within the DoD. We are the Department&#39;s contract manager, responsible for ensuring Federal acquisition programs, supplies, and services are delivered on time, within cost and meet performance requirements. About the Position: Defense Contract Management Agency uses the Expedited Hiring Authority to recruit and appoint qualified individuals directly into shortage category or critical need acquisition positions. Who May Apply: All U.S. Citizens and Nationals with allegiance to the United States Interagency Career Transition Assistance Plan (ICTAP) Eligible | In order to qualify, you must meet the education and experience requirements described below. Experience refers to paid and unpaid experience, including volunteer work done through National Service programs (e.g., Peace Corps, AmeriCorps) and other organizations (e.g., professional; philanthropic; religious; spiritual; community; student; social). You will receive credit for all qualifying experience, including volunteer experience. Your resume must clearly describe your relevant experience; if qualifying based on education, your transcripts will be required as part of your application. Experience required: To qualify based on your work experience, your resume must describe at least one year of experience which prepared you to do the work in this job. Specialized experience is defined as: To qualify, applicants must possess one year of specialized experience equivalent to the next lower grade/level (GS-11). Specialized experience is defined as: Experience monitoring Computer Software, Configuration Management, and performing surveillance of Computer Software system design and development; including assessment and reporting on the contractor&#39;s software development and testing processes, and progress and performance in order to evaluate contractor compliance with software development criteria. Education cannot be substituted for experience. You will be evaluated on the basis of your level of competency in the following areas:\n",
      "General EngineeringQuality Management Applicants must meet basic eligibility requirements such as minimum qualifications, and other regulatory requirements by the closing date of the announcement. BASIC EDUCATION REQUIREMENT (Engineering Series):\n",
      "A. Degree: Engineering. To be acceptable, the program must: (1) lead to a bachelor&#39;s degree in a school of engineering with at least one program accredited by ABET; or (2) include differential and integral calculus and cours\n",
      "\n",
      "...next job...\n"
     ]
    }
   ],
   "source": [
    "k = 0\n",
    "\n",
    "print(\"RESUME:\\n\")\n",
    "print(corpus[k][:150000])\n",
    "\n",
    "print(\"\\n============================================================================\\n\")\n",
    "print(\"MATCHED JOBS: \\n\")\n",
    "for index, score in find_similar(matrix, k):\n",
    "    print(\"\\n\")\n",
    "    print(score, corpus[index][:3000])\n",
    "    print(\"\\n...next job...\")"
   ]
  }
 ],
 "metadata": {
  "kernelspec": {
   "display_name": "Python 3",
   "language": "python",
   "name": "python3"
  },
  "language_info": {
   "codemirror_mode": {
    "name": "ipython",
    "version": 3
   },
   "file_extension": ".py",
   "mimetype": "text/x-python",
   "name": "python",
   "nbconvert_exporter": "python",
   "pygments_lexer": "ipython3",
   "version": "3.6.1"
  }
 },
 "nbformat": 4,
 "nbformat_minor": 2
}
