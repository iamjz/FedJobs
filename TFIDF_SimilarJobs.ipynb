{
 "cells": [
  {
   "cell_type": "code",
   "execution_count": 252,
   "metadata": {
    "collapsed": true
   },
   "outputs": [],
   "source": [
    "import csv\n",
    "import os\n",
    "import pandas as pd\n",
    "from sklearn.feature_extraction.text import TfidfVectorizer\n",
    "from sklearn.metrics.pairwise import linear_kernel"
   ]
  },
  {
   "cell_type": "markdown",
   "metadata": {},
   "source": [
    "# Build up my corpus using the scraped data"
   ]
  },
  {
   "cell_type": "code",
   "execution_count": 253,
   "metadata": {
    "collapsed": true
   },
   "outputs": [],
   "source": [
    "# specify resume path\n",
    "\n",
    "resumePath = \"/resumes/jacky.txt\""
   ]
  },
  {
   "cell_type": "code",
   "execution_count": 254,
   "metadata": {
    "scrolled": false
   },
   "outputs": [
    {
     "name": "stdout",
     "output_type": "stream",
     "text": [
      "Importing...  analyst_N_239_20171223115544.csv\n",
      "Success\n",
      "================================================================\n",
      "Importing...  businessintelligence_N_20_20171223115447.csv\n",
      "Success\n",
      "================================================================\n",
      "Importing...  computational_N_17_20171223115812.csv\n",
      "Success\n",
      "================================================================\n",
      "Importing...  dataanalyst_N_96_20171223115356.csv\n",
      "Success\n",
      "================================================================\n",
      "Importing...  dataanalytics_N_19_20171223115427.csv\n",
      "Success\n",
      "================================================================\n",
      "Importing...  database_N_500_20171223120145.csv\n",
      "Success\n",
      "================================================================\n",
      "Importing...  dataengineer_N_101_20171223115828.csv\n",
      "Success\n",
      "================================================================\n",
      "Importing...  datamining_N_9_20171223120312.csv\n",
      "Success\n",
      "================================================================\n",
      "Importing...  datascience_N_346_20171223115408.csv\n",
      "Success\n",
      "================================================================\n",
      "Importing...  datascientist_N_28_20171223115414.csv\n",
      "Success\n",
      "================================================================\n",
      "Importing...  datavisualization_N_14_20171223120520.csv\n",
      "Success\n",
      "================================================================\n",
      "Importing...  data_N_500_20171223115517.csv\n",
      "Success\n",
      "================================================================\n",
      "Importing...  developer_N_6_20171223120053.csv\n",
      "Success\n",
      "================================================================\n",
      "Importing...  economist_N_28_20171223115942.csv\n",
      "Success\n",
      "================================================================\n",
      "Importing...  Engineer_N_288_20171223120400.csv\n",
      "Success\n",
      "================================================================\n",
      "Importing...  excel_N_103_20171223120652.csv\n",
      "Success\n",
      "================================================================\n",
      "Importing...  geospatial_N_33_20171223115329.csv\n",
      "Success\n",
      "================================================================\n",
      "Importing...  hadoop_N_1_20171223120334.csv\n",
      "Success\n",
      "================================================================\n",
      "Importing...  intelligence_N_178_20171223115349.csv\n",
      "Success\n",
      "================================================================\n",
      "Importing...  java_N_25_20171223115802.csv\n",
      "Success\n",
      "================================================================\n",
      "Importing...  logistics_N_322_20171223121226.csv\n",
      "Success\n",
      "================================================================\n",
      "Importing...  machinelearning_N_6_20171223120128.csv\n",
      "Success\n",
      "================================================================\n",
      "Importing...  manager_N_500_20171223121148.csv\n",
      "Success\n",
      "================================================================\n",
      "Importing...  math_N_117_20171223115905.csv\n",
      "Success\n",
      "================================================================\n",
      "Importing...  MatLab_N_9_20171223120447.csv\n",
      "Success\n",
      "================================================================\n",
      "Importing...  modeling_N_103_20171223120502.csv\n",
      "Success\n",
      "================================================================\n",
      "Importing...  nlp_N_2_20171223121016.csv\n",
      "Success\n",
      "================================================================\n",
      "Importing...  operations_N_500_20171223120113.csv\n",
      "Success\n",
      "================================================================\n",
      "Importing...  phd_N_79_20171223120553.csv\n",
      "Success\n",
      "================================================================\n",
      "Importing...  Physics_N_344_20171223120633.csv\n",
      "Success\n",
      "================================================================\n",
      "Importing...  powerpoint_N_23_20171223120249.csv\n",
      "Success\n",
      "================================================================\n",
      "Importing...  programmer_N_5_20171223115656.csv\n",
      "Success\n",
      "================================================================\n",
      "Importing...  python_N_17_20171223115724.csv\n",
      "Success\n",
      "================================================================\n",
      "Importing...  qualityassurancetester_N_1_20171223120713.csv\n",
      "Success\n",
      "================================================================\n",
      "Importing...  qualityassurance_N_314_20171223120725.csv\n",
      "Success\n",
      "================================================================\n",
      "Importing...  qualitytester_N_2_20171223120737.csv\n",
      "Success\n",
      "================================================================\n",
      "Importing...  qualitytesting_N_186_20171223120752.csv\n",
      "Success\n",
      "================================================================\n",
      "Importing...  quantitative_N_176_20171223120419.csv\n",
      "Success\n",
      "================================================================\n",
      "Importing...  regression_N_5_20171223120932.csv\n",
      "Success\n",
      "================================================================\n",
      "Importing...  software_N_500_20171223115557.csv\n",
      "Success\n",
      "================================================================\n",
      "Importing...  spatial_N_14_20171223115245.csv\n",
      "Success\n",
      "================================================================\n",
      "Importing...  SPSS_N_3_20171223120435.csv\n",
      "Success\n",
      "================================================================\n",
      "Importing...  sql_N_21_20171223120239.csv\n",
      "Success\n",
      "================================================================\n",
      "Importing...  statistical_N_277_20171223120834.csv\n",
      "Success\n",
      "================================================================\n",
      "Importing...  statistician_N_8_20171223115854.csv\n",
      "Success\n",
      "================================================================\n",
      "Importing...  statistics_N_329_20171223115916.csv\n",
      "Success\n",
      "================================================================\n",
      "Importing...  systems_N_500_20171223120219.csv\n",
      "Success\n",
      "================================================================\n",
      "Importing...  tableau_N_2_20171223120948.csv\n",
      "Success\n",
      "================================================================\n",
      "Importing...  technical_N_500_20171223115709.csv\n",
      "Success\n",
      "================================================================\n",
      "Importing...  technology_N_500_20171223120810.csv\n",
      "Success\n",
      "================================================================\n"
     ]
    }
   ],
   "source": [
    "# read in all the job postings\n",
    "\n",
    "corpusDF = pd.DataFrame()\n",
    "\n",
    "for f in os.listdir(\"collected_data/\"):\n",
    "    if (f.endswith(\".csv\")):\n",
    "        print(\"Importing... \", f)\n",
    "        filepath = os.path.join(\"collected_data\", f)\n",
    "        df = pd.read_csv(filepath, encoding = \"ISO-8859-1\")\n",
    "        df[\"AllDescription\"] = df[\"PositionTitle\"] + \" | \" +  df[\"DepartmentName\"]  + \" | \" + \\\n",
    "                                df[\"OrganizationName\"]  + \" | \" +  df[\"URI\"] + \" | \" + f  + \" | \" + \\\n",
    "                                df[\"JobSummary\"] + \" | \" + \\\n",
    "                                df[\"QualificationSummary\"]\n",
    "        \n",
    "        corpusDF = corpusDF.append(df, ignore_index = True)        \n",
    "        \n",
    "        print(\"Success\")\n",
    "        print(\"================================================================\")"
   ]
  },
  {
   "cell_type": "code",
   "execution_count": 255,
   "metadata": {
    "scrolled": false
   },
   "outputs": [
    {
     "data": {
      "text/html": [
       "<div>\n",
       "<style>\n",
       "    .dataframe thead tr:only-child th {\n",
       "        text-align: right;\n",
       "    }\n",
       "\n",
       "    .dataframe thead th {\n",
       "        text-align: left;\n",
       "    }\n",
       "\n",
       "    .dataframe tbody tr th {\n",
       "        vertical-align: top;\n",
       "    }\n",
       "</style>\n",
       "<table border=\"1\" class=\"dataframe\">\n",
       "  <thead>\n",
       "    <tr style=\"text-align: right;\">\n",
       "      <th></th>\n",
       "      <th>ApplicationCloseDate</th>\n",
       "      <th>DepartmentName</th>\n",
       "      <th>JobGrade</th>\n",
       "      <th>JobSummary</th>\n",
       "      <th>MaxPay</th>\n",
       "      <th>MinPay</th>\n",
       "      <th>OfferingType</th>\n",
       "      <th>OrganizationName</th>\n",
       "      <th>PayType</th>\n",
       "      <th>PositionEndDate</th>\n",
       "      <th>PositionID</th>\n",
       "      <th>PositionLocation</th>\n",
       "      <th>PositionStartDate</th>\n",
       "      <th>PositionTitle</th>\n",
       "      <th>QualificationSummary</th>\n",
       "      <th>URI</th>\n",
       "      <th>AllDescription</th>\n",
       "    </tr>\n",
       "  </thead>\n",
       "  <tbody>\n",
       "    <tr>\n",
       "      <th>0</th>\n",
       "      <td>2018-04-02</td>\n",
       "      <td>Other Agencies and Independent Organizations</td>\n",
       "      <td>GS</td>\n",
       "      <td>Construction Analysts (Loss Verifiers)\\r\\nNeed...</td>\n",
       "      <td>52329.0</td>\n",
       "      <td>35359.0</td>\n",
       "      <td>Excepted Service - Temporary NTE 6 months, but...</td>\n",
       "      <td>Small Business Administration</td>\n",
       "      <td>Per Year</td>\n",
       "      <td>2018-04-02</td>\n",
       "      <td>DVC-HH-01-2017</td>\n",
       "      <td>Seattle, Washington|Los Angeles, California|Sa...</td>\n",
       "      <td>2017-10-02</td>\n",
       "      <td>Construction Analyst</td>\n",
       "      <td>Qualifying experience includes: Working for a ...</td>\n",
       "      <td>https://www.usajobs.gov:443/GetJob/ViewDetails...</td>\n",
       "      <td>Construction Analyst | Other Agencies and Inde...</td>\n",
       "    </tr>\n",
       "    <tr>\n",
       "      <th>1</th>\n",
       "      <td>2017-12-25</td>\n",
       "      <td>Legislative Branch</td>\n",
       "      <td>HS</td>\n",
       "      <td>The Financial Analyst is a senior level positi...</td>\n",
       "      <td>94158.0</td>\n",
       "      <td>74726.0</td>\n",
       "      <td>Permanent</td>\n",
       "      <td>House of Representatives</td>\n",
       "      <td>Per Year</td>\n",
       "      <td>2017-12-25</td>\n",
       "      <td>FIN-010-17</td>\n",
       "      <td>Washington DC, District of Columbia</td>\n",
       "      <td>2017-12-11</td>\n",
       "      <td>Financial Analyst</td>\n",
       "      <td>Highly qualified candidates will be evaluated ...</td>\n",
       "      <td>https://www.usajobs.gov:443/GetJob/ViewDetails...</td>\n",
       "      <td>Financial Analyst | Legislative Branch | House...</td>\n",
       "    </tr>\n",
       "  </tbody>\n",
       "</table>\n",
       "</div>"
      ],
      "text/plain": [
       "  ApplicationCloseDate                                DepartmentName JobGrade  \\\n",
       "0           2018-04-02  Other Agencies and Independent Organizations       GS   \n",
       "1           2017-12-25                            Legislative Branch       HS   \n",
       "\n",
       "                                          JobSummary   MaxPay   MinPay  \\\n",
       "0  Construction Analysts (Loss Verifiers)\\r\\nNeed...  52329.0  35359.0   \n",
       "1  The Financial Analyst is a senior level positi...  94158.0  74726.0   \n",
       "\n",
       "                                        OfferingType  \\\n",
       "0  Excepted Service - Temporary NTE 6 months, but...   \n",
       "1                                          Permanent   \n",
       "\n",
       "                OrganizationName   PayType PositionEndDate      PositionID  \\\n",
       "0  Small Business Administration  Per Year      2018-04-02  DVC-HH-01-2017   \n",
       "1       House of Representatives  Per Year      2017-12-25      FIN-010-17   \n",
       "\n",
       "                                    PositionLocation PositionStartDate  \\\n",
       "0  Seattle, Washington|Los Angeles, California|Sa...        2017-10-02   \n",
       "1                Washington DC, District of Columbia        2017-12-11   \n",
       "\n",
       "          PositionTitle                               QualificationSummary  \\\n",
       "0  Construction Analyst  Qualifying experience includes: Working for a ...   \n",
       "1     Financial Analyst  Highly qualified candidates will be evaluated ...   \n",
       "\n",
       "                                                 URI  \\\n",
       "0  https://www.usajobs.gov:443/GetJob/ViewDetails...   \n",
       "1  https://www.usajobs.gov:443/GetJob/ViewDetails...   \n",
       "\n",
       "                                      AllDescription  \n",
       "0  Construction Analyst | Other Agencies and Inde...  \n",
       "1  Financial Analyst | Legislative Branch | House...  "
      ]
     },
     "execution_count": 255,
     "metadata": {},
     "output_type": "execute_result"
    }
   ],
   "source": [
    "corpusDF.head(2)"
   ]
  },
  {
   "cell_type": "code",
   "execution_count": 256,
   "metadata": {
    "scrolled": true
   },
   "outputs": [
    {
     "data": {
      "text/plain": [
       "7916"
      ]
     },
     "execution_count": 256,
     "metadata": {},
     "output_type": "execute_result"
    }
   ],
   "source": [
    "len(corpusDF)"
   ]
  },
  {
   "cell_type": "markdown",
   "metadata": {},
   "source": [
    "### There may be multiple job postings. I'll need to remove the duplicates based on the job URI. "
   ]
  },
  {
   "cell_type": "code",
   "execution_count": 257,
   "metadata": {},
   "outputs": [
    {
     "data": {
      "text/plain": [
       "3751"
      ]
     },
     "execution_count": 257,
     "metadata": {},
     "output_type": "execute_result"
    }
   ],
   "source": [
    "corpusDF = corpusDF.groupby(\"URI\").first()\n",
    "\n",
    "len(corpusDF)"
   ]
  },
  {
   "cell_type": "code",
   "execution_count": 258,
   "metadata": {},
   "outputs": [
    {
     "data": {
      "text/html": [
       "<div>\n",
       "<style>\n",
       "    .dataframe thead tr:only-child th {\n",
       "        text-align: right;\n",
       "    }\n",
       "\n",
       "    .dataframe thead th {\n",
       "        text-align: left;\n",
       "    }\n",
       "\n",
       "    .dataframe tbody tr th {\n",
       "        vertical-align: top;\n",
       "    }\n",
       "</style>\n",
       "<table border=\"1\" class=\"dataframe\">\n",
       "  <thead>\n",
       "    <tr style=\"text-align: right;\">\n",
       "      <th></th>\n",
       "      <th>ApplicationCloseDate</th>\n",
       "      <th>DepartmentName</th>\n",
       "      <th>JobGrade</th>\n",
       "      <th>JobSummary</th>\n",
       "      <th>MaxPay</th>\n",
       "      <th>MinPay</th>\n",
       "      <th>OfferingType</th>\n",
       "      <th>OrganizationName</th>\n",
       "      <th>PayType</th>\n",
       "      <th>PositionEndDate</th>\n",
       "      <th>PositionID</th>\n",
       "      <th>PositionLocation</th>\n",
       "      <th>PositionStartDate</th>\n",
       "      <th>PositionTitle</th>\n",
       "      <th>QualificationSummary</th>\n",
       "      <th>AllDescription</th>\n",
       "    </tr>\n",
       "    <tr>\n",
       "      <th>URI</th>\n",
       "      <th></th>\n",
       "      <th></th>\n",
       "      <th></th>\n",
       "      <th></th>\n",
       "      <th></th>\n",
       "      <th></th>\n",
       "      <th></th>\n",
       "      <th></th>\n",
       "      <th></th>\n",
       "      <th></th>\n",
       "      <th></th>\n",
       "      <th></th>\n",
       "      <th></th>\n",
       "      <th></th>\n",
       "      <th></th>\n",
       "      <th></th>\n",
       "    </tr>\n",
       "  </thead>\n",
       "  <tbody>\n",
       "    <tr>\n",
       "      <th>https://www.usajobs.gov:443/GetJob/ViewDetails/345265800</th>\n",
       "      <td>2018-02-15</td>\n",
       "      <td>Other Agencies and Independent Organizations</td>\n",
       "      <td>GS</td>\n",
       "      <td>Thisfile serves as a repository of resumes for...</td>\n",
       "      <td>82642.00</td>\n",
       "      <td>20527.00</td>\n",
       "      <td>Multiple Appointment Types</td>\n",
       "      <td>Office of Personnel Management</td>\n",
       "      <td>Per Year</td>\n",
       "      <td>2018-02-15</td>\n",
       "      <td>US OPM Veteran File</td>\n",
       "      <td>San Francisco, California|Denver, Colorado|Was...</td>\n",
       "      <td>2017-02-16</td>\n",
       "      <td>U.S. OPM Veteran File</td>\n",
       "      <td>As positions become available and hiring offic...</td>\n",
       "      <td>U.S. OPM Veteran File | Other Agencies and Ind...</td>\n",
       "    </tr>\n",
       "    <tr>\n",
       "      <th>https://www.usajobs.gov:443/GetJob/ViewDetails/357639200</th>\n",
       "      <td>2018-01-03</td>\n",
       "      <td>Department of the Air Force</td>\n",
       "      <td>WG</td>\n",
       "      <td>Air Reserve Technicians are part of the regula...</td>\n",
       "      <td>26.18</td>\n",
       "      <td>22.45</td>\n",
       "      <td>Multiple Appointment Types</td>\n",
       "      <td>Headquarters, Air Force Reserve Command</td>\n",
       "      <td>Per Hour</td>\n",
       "      <td>2018-01-03</td>\n",
       "      <td>SEU-SR-Elec Int Sys Mech</td>\n",
       "      <td>Elmendorf AFB, Alaska|Maxwell AFB, Alabama|Lit...</td>\n",
       "      <td>2017-01-04</td>\n",
       "      <td>Electronic Integrated System Mechanic (Militar...</td>\n",
       "      <td>A specific length of experience or training is...</td>\n",
       "      <td>Electronic Integrated System Mechanic (Militar...</td>\n",
       "    </tr>\n",
       "  </tbody>\n",
       "</table>\n",
       "</div>"
      ],
      "text/plain": [
       "                                                   ApplicationCloseDate  \\\n",
       "URI                                                                       \n",
       "https://www.usajobs.gov:443/GetJob/ViewDetails/...           2018-02-15   \n",
       "https://www.usajobs.gov:443/GetJob/ViewDetails/...           2018-01-03   \n",
       "\n",
       "                                                                                  DepartmentName  \\\n",
       "URI                                                                                                \n",
       "https://www.usajobs.gov:443/GetJob/ViewDetails/...  Other Agencies and Independent Organizations   \n",
       "https://www.usajobs.gov:443/GetJob/ViewDetails/...                   Department of the Air Force   \n",
       "\n",
       "                                                   JobGrade  \\\n",
       "URI                                                           \n",
       "https://www.usajobs.gov:443/GetJob/ViewDetails/...       GS   \n",
       "https://www.usajobs.gov:443/GetJob/ViewDetails/...       WG   \n",
       "\n",
       "                                                                                           JobSummary  \\\n",
       "URI                                                                                                     \n",
       "https://www.usajobs.gov:443/GetJob/ViewDetails/...  Thisfile serves as a repository of resumes for...   \n",
       "https://www.usajobs.gov:443/GetJob/ViewDetails/...  Air Reserve Technicians are part of the regula...   \n",
       "\n",
       "                                                      MaxPay    MinPay  \\\n",
       "URI                                                                      \n",
       "https://www.usajobs.gov:443/GetJob/ViewDetails/...  82642.00  20527.00   \n",
       "https://www.usajobs.gov:443/GetJob/ViewDetails/...     26.18     22.45   \n",
       "\n",
       "                                                                  OfferingType  \\\n",
       "URI                                                                              \n",
       "https://www.usajobs.gov:443/GetJob/ViewDetails/...  Multiple Appointment Types   \n",
       "https://www.usajobs.gov:443/GetJob/ViewDetails/...  Multiple Appointment Types   \n",
       "\n",
       "                                                                           OrganizationName  \\\n",
       "URI                                                                                           \n",
       "https://www.usajobs.gov:443/GetJob/ViewDetails/...           Office of Personnel Management   \n",
       "https://www.usajobs.gov:443/GetJob/ViewDetails/...  Headquarters, Air Force Reserve Command   \n",
       "\n",
       "                                                     PayType PositionEndDate  \\\n",
       "URI                                                                            \n",
       "https://www.usajobs.gov:443/GetJob/ViewDetails/...  Per Year      2018-02-15   \n",
       "https://www.usajobs.gov:443/GetJob/ViewDetails/...  Per Hour      2018-01-03   \n",
       "\n",
       "                                                                  PositionID  \\\n",
       "URI                                                                            \n",
       "https://www.usajobs.gov:443/GetJob/ViewDetails/...       US OPM Veteran File   \n",
       "https://www.usajobs.gov:443/GetJob/ViewDetails/...  SEU-SR-Elec Int Sys Mech   \n",
       "\n",
       "                                                                                     PositionLocation  \\\n",
       "URI                                                                                                     \n",
       "https://www.usajobs.gov:443/GetJob/ViewDetails/...  San Francisco, California|Denver, Colorado|Was...   \n",
       "https://www.usajobs.gov:443/GetJob/ViewDetails/...  Elmendorf AFB, Alaska|Maxwell AFB, Alabama|Lit...   \n",
       "\n",
       "                                                   PositionStartDate  \\\n",
       "URI                                                                    \n",
       "https://www.usajobs.gov:443/GetJob/ViewDetails/...        2017-02-16   \n",
       "https://www.usajobs.gov:443/GetJob/ViewDetails/...        2017-01-04   \n",
       "\n",
       "                                                                                        PositionTitle  \\\n",
       "URI                                                                                                     \n",
       "https://www.usajobs.gov:443/GetJob/ViewDetails/...                              U.S. OPM Veteran File   \n",
       "https://www.usajobs.gov:443/GetJob/ViewDetails/...  Electronic Integrated System Mechanic (Militar...   \n",
       "\n",
       "                                                                                 QualificationSummary  \\\n",
       "URI                                                                                                     \n",
       "https://www.usajobs.gov:443/GetJob/ViewDetails/...  As positions become available and hiring offic...   \n",
       "https://www.usajobs.gov:443/GetJob/ViewDetails/...  A specific length of experience or training is...   \n",
       "\n",
       "                                                                                       AllDescription  \n",
       "URI                                                                                                    \n",
       "https://www.usajobs.gov:443/GetJob/ViewDetails/...  U.S. OPM Veteran File | Other Agencies and Ind...  \n",
       "https://www.usajobs.gov:443/GetJob/ViewDetails/...  Electronic Integrated System Mechanic (Militar...  "
      ]
     },
     "execution_count": 258,
     "metadata": {},
     "output_type": "execute_result"
    }
   ],
   "source": [
    "corpusDF.head(2)"
   ]
  },
  {
   "cell_type": "code",
   "execution_count": 259,
   "metadata": {},
   "outputs": [
    {
     "data": {
      "text/plain": [
       "3751"
      ]
     },
     "execution_count": 259,
     "metadata": {},
     "output_type": "execute_result"
    }
   ],
   "source": [
    "corpus = []\n",
    "corpusDF[\"AllDescription\"].apply(lambda row: corpus.append(row))\n",
    "len(corpus)"
   ]
  },
  {
   "cell_type": "code",
   "execution_count": 260,
   "metadata": {},
   "outputs": [
    {
     "data": {
      "text/plain": [
       "'DHA RECENT GRADUATES PROGRAM (INFORMATION TECHNOLOGY SPECIALIST) | Department of the Air Force | Air Force Personnel Center | https://www.usajobs.gov:443/GetJob/ViewDetails/479963100 | operations_N_500_20171223120113.csv | Any individual who was awarded a degree by an institution of higher\\r\\neducation from a public or other non-profit institutionnot more than two years before the date of appointment meets the\\r\\nbasic eligibility requirement to apply for the DHA Recent Graduates Program; OR Any individual who has completed a period of obligated service in a\\r\\nuniformed service of more than four years and was awarded a degree by an\\r\\ninstitution of higher education from a public or other non-profit institutionnot more than four years before the date of\\r\\nappointment meets the basic eligibility requirement to apply for the DHA Recent\\r\\nGraduates Program. YOUR TRAINING AND DEVELOPMENT\\r\\nCOVERS: &#183; Orientation program &#183; Mentorship throughout the\\r\\nProgram &#183; Individual Training &amp; D'"
      ]
     },
     "execution_count": 260,
     "metadata": {},
     "output_type": "execute_result"
    }
   ],
   "source": [
    "corpus[300][:1000]"
   ]
  },
  {
   "cell_type": "markdown",
   "metadata": {},
   "source": [
    "## Prepend my resume onto the corpus list"
   ]
  },
  {
   "cell_type": "code",
   "execution_count": 261,
   "metadata": {},
   "outputs": [],
   "source": [
    "file = open(\"resumes/jacky.txt\", \"r\")\n",
    "resume = file.read()\n",
    "\n",
    "# preprend to corpus\n",
    "corpus.insert(0, resume)"
   ]
  },
  {
   "cell_type": "code",
   "execution_count": 262,
   "metadata": {},
   "outputs": [
    {
     "data": {
      "text/plain": [
       "'Relevant Coursework: Machine Learning, High Performance Computing, Predictive Analytics, Advanced Statistics, Natural Language Processing University of Michigan                                        Ann Arbor, MI Bachelor of Science: Industrial and Operations EngineeringDate of Graduation: April 2011Relevant Coursework: Software Development, Optimization Methods, Linear Statistical Models, Markov Process, Operations Modeling, Statistics ASQ Certified Six Sigma Black BeltLicense Number: 12771 WORK EXPERIENCE: Accenture                                                            Austin, TX  Senior Software Development Engineer                                                                       May 2014 – Present  ?Developed and maintained healthcare web applications (.NET MVC C#, HTML, Javascript, CSS, SQL Server) for the Texas Health and Human Services Commission (HHSC) to process Medicaid claims, patient forms, and physician inventory status. Collaborated with clients to translate bu'"
      ]
     },
     "execution_count": 262,
     "metadata": {},
     "output_type": "execute_result"
    }
   ],
   "source": [
    "# make sure that the first entry is the resume\n",
    "\n",
    "corpus[0][:1000]"
   ]
  },
  {
   "cell_type": "markdown",
   "metadata": {},
   "source": [
    "## Build TF-IDF vectorizer and matrix"
   ]
  },
  {
   "cell_type": "code",
   "execution_count": 263,
   "metadata": {},
   "outputs": [],
   "source": [
    "tf = TfidfVectorizer(analyzer = \"word\", \n",
    "                        ngram_range = (1, 3),\n",
    "                        min_df = 0, \n",
    "                        stop_words = \"english\")"
   ]
  },
  {
   "cell_type": "code",
   "execution_count": 264,
   "metadata": {},
   "outputs": [],
   "source": [
    "matrix = tf.fit_transform(corpus)"
   ]
  },
  {
   "cell_type": "markdown",
   "metadata": {},
   "source": [
    "## Find similar jobs using cosine similarity"
   ]
  },
  {
   "cell_type": "code",
   "execution_count": 265,
   "metadata": {
    "collapsed": true
   },
   "outputs": [],
   "source": [
    "def find_similar(matrix, index, top_n = 10):\n",
    "    cosine_similarities = linear_kernel(matrix[index: index + 1], matrix).flatten()\n",
    "    related_docs_indices = [i for i in cosine_similarities.argsort()[::-1] if i != index]\n",
    "    return [(index, cosine_similarities[index]) for index in related_docs_indices][0:top_n]"
   ]
  },
  {
   "cell_type": "markdown",
   "metadata": {},
   "source": [
    "## Let's test this out"
   ]
  },
  {
   "cell_type": "code",
   "execution_count": 271,
   "metadata": {
    "scrolled": false
   },
   "outputs": [
    {
     "name": "stdout",
     "output_type": "stream",
     "text": [
      "RESUME:\n",
      "\n",
      "Relevant Coursework: Machine Learning, High Performance Computing, Predictive Analytics, Advanced Statistics, Natural Language Processing University of Michigan                                        Ann Arbor, MI Bachelor of Science: Industrial and Operations EngineeringDate of Graduation: April 2011Relevant Coursework: Software Development, Optimization Methods, Linear Statistical Models, Markov Process, Operations Modeling, Statistics ASQ Certified Six Sigma Black BeltLicense Number: 12771 WORK EXPERIENCE: Accenture                                                            Austin, TX  Senior Software Development Engineer                                                                       May 2014 – Present  ?Developed and maintained healthcare web applications (.NET MVC C#, HTML, Javascript, CSS, SQL Server) for the Texas Health and Human Services Commission (HHSC) to process Medicaid claims, patient forms, and physician inventory status. Collaborated with clients to translate business objectives into system requirements. Managed analysis and code-reviews for junior developers.?Redesigned and built a new caching system as a microservice in Azure Service Fabric. Pioneered the use of distributed systems for reliable and scalable applications in the Austin office. Developed a RESTful API for clients to consume the Cache microservice. Led the effort in transitioning 6 enterprise apps from a legacy cache architecture to the new Cache microservice in Service Fabric.?Acted as the Project Manager and Lead Developer to build an internal data analytics platform called “SHERLOCK”. Created the project charter and conducted a feasibility study to examine the high-level goals. Presented the executive plan for scope approval and project kickoff. Managed 3 junior engineers on product development and quality control. SHERLOCK reduced on-call troubleshooting time by over 60%, allowed executives to drill down into real-time issues, and streamlined analyst support tasks. Initial prototype was built with Python. End-product was built with MVC C#, Bootstrap, ChartJS, Javascript, and SQL Server. ?Led the automated functional testing initiative as a Solutions Architect using SilkTest. Created a database-driven test protocol for 3 enterprise applications which reduced manual testing time by 93%. Trained analysts on testing standards and quality control.  ?Recipient of three Accenture Executive Recognition Awards (October 2014, January 2016, and August 2016).Samsung Electronics                                                                           Austin, TX Lead Industrial Engineer – Supply Chain Management              April 2013 – May 2014  ?Recruited as the lead engineer to start up the \"Supply Chain Management - CRC\" group. Managed a team of operators and technicians to create and grow the Repair Center, Clean Parts Warehouse, and Calibration Command Center. Formulated and rolled out a business strategy to align with HQ and reduce average equipment parts expenditure by $1.5 million per month.  ?Designed and coded inventory management applications, KPI dashboards, and task dispatching systems in ASP.NET (C#, HTML, CSS, Javascript) and SQL Server. Developed an automated performance index to grade vendors based on turnaround-time, cost, quality, and customer service. Provided data insights and forecasts to CFO and VP of Operations.  Cypress Semiconductor (formerly Spansion)                                                       Austin, TX  Industrial Engineer I – Decision Support Systems                  June 2011 – Nov 2012 Industrial Engineer II – Decision Support Systems                                                             Nov 2012 – April 2013  ?Led continuous improvement and business intelligence teams across multiple departments to reduce average costs of over $350k/year.  Designed a real-time dispatching algorithm and programmed an automation system across the factory floor to reduce the lot creation process by over 80%. Streamlined the manual workflow and eliminated logging errors for operators.  ?Built tool capacity models to dynamically forecast activities and tool availability.  Revamped a “Work-In-Process” inventory pacing application for managers to gauge to the performance of the facility. Created web dashboards and reports using ASP.NET (C#), HTML, Javascript and Oracle to display key performance indicators and isolate root causes of underlying problems.INDEPENDENT PROJECTS: Data Analysis on Substance Abuse and Psychiatric Disorders (using Python) ?Performed analysis on the “U.S National Epidemiological Survey on Alcohol and Related Conditions (NESARC)” dataset using inferential statistics (ANOVA, Chi-Square, and Pearson Correlation) to find associations between smoking and depression.  ?Developed predictive models (Multivariate Linear and Logistic Regression) to forecast nicotine-dependent symptoms in individuals. Utilized machine learning and data-mining techniques (Decision Trees, Random Forests, and K-Means Cluster) to identify subsets of individuals at the greatest risk for health problems based on various behavior and substance abuse. \n",
      "\n",
      "============================================================================\n",
      "\n",
      "MATCHED JOBS: \n",
      "\n",
      "\n",
      "\n",
      "0.0452596176075 Programmer/Software Engineer | Other Agencies and Independent Organizations | Appalachian Regional Commission | https://www.usajobs.gov:443/GetJob/ViewDetails/487299700 | database_N_500_20171223120145.csv | The Appalachian Regional Commission (ARC) is a regional economic development agency that represents a unique partnership between the Federal and State governments. ARC&#39;s mission is to be a strategic partner and advocate for sustainable community and economic development in Appalachia. This position is responsible for maintaining the business grant management system (ARCnet) of the agency. The primary and critical work of this position is to work collaboratively with the System Administrator on the design and development ARCNET then lead the preparation and implementation of code enhancements to the ARCnet. The position is involved in all work that involves the design, documentation, development, modification, testing, installation, implementation, and support of new or existing applications software. The position reports to the IT Program Manager and works collaboratively with the System Administrator. ARC is located in the vibrant Dupont Circle area, offers a competitive compensation/benefits package, and provides a dynamic career opportunity to lead and develop our database strategy. | Knowledge of and skill in applying applications software development principles and methods sufficient to participate in the design, development, testing, and implementation of new or modified applications software.\r\n",
      "Knowledge and experience working in an Agile Environment Technologies C# - Expert-level implementation skills with C# and the .NET platform. SCM - Strong experience working with an SCM tool like Team Foundation Server, Subversion or Git. ASP.NET - Strong implementation skills with ASP.NET including experience with building custom controls and developing with the ASP.NET MVC framework. Database - Strong experience with Microsoft LINQ or ADO.NET. Must be highly proficient in SQL preferably across multiple databases. Expert in SQL Sever Integration Services (SSIS) Web - Strong experience building modern web applications using frameworks like jQuery, jQuery UI, and Bootstrap. General - Comfortable in more than one programming language with a strong understanding of fundamental web/internet technologies. Customer Service - Works with clients and customers to assess their needs, provide information or assistance, resolve their problems, or satisfy their expectations.\r\n",
      "Verbal Communication - Expresses information to individuals or groups effectively, taking into account the audience and nature of the information; makes clear and convincing oral presentations; listens to others, attends to nonverbal cues, and responds appropriately.\r\n",
      "Problem Solving - Identifies problems; determines accuracy and relevance of information; uses sound judgment to generate and evaluate alternatives, and to make recommendations to complex and multi-faceted problems.\r\n",
      "Abili\n",
      "\n",
      "...next job...\n",
      "\n",
      "\n",
      "0.0393373825409 GEOINT Analyst (Data Science) | Department of Defense | National Geospatial-Intelligence Agency | https://www.usajobs.gov:443/GetJob/ViewDetails/480935400 | analyst_N_239_20171223115544.csv | JOB DESCRIPTION: GEOINT Analysts (Data Science) develop and apply methods to identify, collect, process, and analyze large volumes of data to build and enhance GEOINT products, processes, and systems. They conduct data mining and retrieval, and apply statistical and mathematical analyses to identify trends, solve analytical problems, optimize performance, and gather intelligence. They visualize information using a range of tools (e.g., GIS, R), develop scripts and algorithms, create explanatory and predictive models, and conduct comparative analyses to address complex military and intelligence problems. | DESIRABLE QUALIFICATION CRITERIA: In addition to the mandatory qualifications, experience in the following is desired: 1) Education: Applied Mathematics, Computer Science, Data Science, Geographic Information Science, Informatics and Computing, Information Science, Operations Research, Statistics, or a related discipline;\r\n",
      "2) Experience: Software Coding: C++ Java, AND/OR Statistics & Modeling: R, Python, AND/OR Query Languages: SQL, NoSQL, AND/OR Scripting: JavaScript, Python, Cloud Services Design, Algorithm Development, Data Visualization, Big Data /Data Modeling, Machine Vision & Deep Learning, Optimization.\n",
      "\n",
      "...next job...\n",
      "\n",
      "\n",
      "0.0377301132335 IT Software Developer | Department of Defense | National Geospatial-Intelligence Agency | https://www.usajobs.gov:443/GetJob/ViewDetails/481494300 | datascience_N_346_20171223115408.csv | JOB DESCRIPTION: IT Software Developers analyze customer and system requirements, evaluate alternative approaches, design and develop solutions tailored to specific Agency, systems, and customer requirements, and lead the testing and integration of new and modified solutions into the system. They review and provide guidance on software developed by vendors; test software developed internally and by vendors; and quickly respond to urgent situations to develop and deliver unique solutions to customer problems. They plan and design systems architecture, write and maintain software program documentation, investigate and evaluate new software technologies, and ensure the rigorous application of information security/information assurance policies, principles, and practices to the delivery of application software services. | DESIRABLE QUALIFICATION CRITERIA: In addition to the mandatory qualifications, experience in the following is desired: Pay Band 2:\r\n",
      "1.) Programing experience in C, C++, Python, Perl, Ruby, JavaScript or Java;\r\n",
      "2.) Software development principles, methods, and tools for designing, developing, coding, testing and deploying software; experience working in an agile environment. Pay Band 3:\r\n",
      "1.) Solid foundation in computer science, with strong competencies in data structures, algorithms, logic/computation, and software design;\r\n",
      "2.) Skills in AJAX, JavaScript, database design, SQL, and/or knowledge of TCP/IP and network programming;\r\n",
      "3.) Cloud design principles, system design and engineering principles, methods, and tools for integrating components (e.g., network equipment, protocols, telephony) into a functional system or prototype;\r\n",
      "4.) Computer/network security concepts/principles, theories, and methods for the design, development, analysis, testing, and securing of computer networks;\r\n",
      "5.) Experience with Geographical/Spatial Information Systems, Amazon Web Services (AWS) cloud infrastructure, web applications and/or large systems software design and development, with extensive knowledge of Unix/Linux.\n",
      "\n",
      "...next job...\n",
      "\n",
      "\n",
      "0.0377301132335 IT Software Developer | Department of Defense | National Geospatial-Intelligence Agency | https://www.usajobs.gov:443/GetJob/ViewDetails/481494200 | datascience_N_346_20171223115408.csv | JOB DESCRIPTION: IT Software Developers analyze customer and system requirements, evaluate alternative approaches, design and develop solutions tailored to specific Agency, systems, and customer requirements, and lead the testing and integration of new and modified solutions into the system. They review and provide guidance on software developed by vendors; test software developed internally and by vendors; and quickly respond to urgent situations to develop and deliver unique solutions to customer problems. They plan and design systems architecture, write and maintain software program documentation, investigate and evaluate new software technologies, and ensure the rigorous application of information security/information assurance policies, principles, and practices to the delivery of application software services. | DESIRABLE QUALIFICATION CRITERIA: In addition to the mandatory qualifications, experience in the following is desired: Pay Band 2:\r\n",
      "1.) Programing experience in C, C++, Python, Perl, Ruby, JavaScript or Java;\r\n",
      "2.) Software development principles, methods, and tools for designing, developing, coding, testing and deploying software; experience working in an agile environment. Pay Band 3:\r\n",
      "1.) Solid foundation in computer science, with strong competencies in data structures, algorithms, logic/computation, and software design;\r\n",
      "2.) Skills in AJAX, JavaScript, database design, SQL, and/or knowledge of TCP/IP and network programming;\r\n",
      "3.) Cloud design principles, system design and engineering principles, methods, and tools for integrating components (e.g., network equipment, protocols, telephony) into a functional system or prototype;\r\n",
      "4.) Computer/network security concepts/principles, theories, and methods for the design, development, analysis, testing, and securing of computer networks;\r\n",
      "5.) Experience with Geographical/Spatial Information Systems, Amazon Web Services (AWS) cloud infrastructure, web applications and/or large systems software design and development, with extensive knowledge of Unix/Linux.\n",
      "\n",
      "...next job...\n",
      "\n",
      "\n",
      "0.0336213695578 Data Engineer | Department of Defense | National Geospatial-Intelligence Agency | https://www.usajobs.gov:443/GetJob/ViewDetails/480935200 | computational_N_17_20171223115812.csv | JOB DESCRIPTION: Data Engineers develop, construct, test, and maintain architectures such as databases and large-scale data processing systems. They clean, prepare, and optimize data for consumption through the design and construction of massive reservoirs for big data. They solve problems associated with database access and integration and unstructured data sets to provide clean, usable data for customers and IT counterparts. These engineers serve as integrators between data architects, data scientists, and other data consumers. They apply knowledge of scripting tools, programming languages, standards, and software packages to build the data pipelines that enable faster, better, data-informed decision-making within the Agency. | 1) Education: Computer Science, Applied Mathematics, Management Information Systems, Engineering, Physical Sciences, or any other technology related field;\r\n",
      "2) Experience: Software Coding: C++ Java, AND/OR Statistics & Modeling: R, Python, AND/OR Query Languages: SQL, NoSQL, AND/OR Scripting: JavaScript, Python, Cloud Services Design, Algorithm Development, Data Visualization, Big Data /Data Modeling, Machine Vision & Deep Learning, Optimization.\n",
      "\n",
      "...next job...\n",
      "\n",
      "\n",
      "0.032869134848 Data Analyst | Department of Defense | National Geospatial-Intelligence Agency | https://www.usajobs.gov:443/GetJob/ViewDetails/480934900 | analyst_N_239_20171223115544.csv | JOB DESCRIPTION: Data Analysts apply tools and algorithms to identify trends and patterns in data. They communicate with stakeholders and conduct research to develop an understanding of relevant programs and requirements. These analysts identify and collect data from various sources, evaluate the data to ensure that they meet analytic needs, and prepare the data for analysis. They also select, apply, and assess analytic models and techniques, and review and verify the results. They prepare reports and briefings and consult with stakeholders to communicate findings. | DESIRABLE QUALIFICATION CRITERIA: In addition to the mandatory qualifications, experience in the following is desired: 1) Education: Applied Mathematics, Computer Science, Data Science, Geographic Information Science, Informatics and Computing, Information Science, Operations Research, Statistics, or a related discipline;\r\n",
      "2) Experience: Software Coding: C++ Java, AND/OR Statistics & Modelling: R, Python, AND/OR Query Languages: SQL, NoSQL, AND/OR Scripting: JavaScript, Python, Cloud Services Design, Algorithm Development, Data Visualization, Big Data /Data Modelling, Machine Vision & Deep Learning, Optimization.\n",
      "\n",
      "...next job...\n",
      "\n",
      "\n",
      "0.0321020666881 Programmer Analyst-Business Intelligence NF4 | Department of the Navy | U.S. Marine Corps | https://www.usajobs.gov:443/GetJob/ViewDetails/487184900 | analyst_N_239_20171223115544.csv | Marine Corps Community Services (MCCS)is looking for the best and brightest to join our Team! MCCSis a comprehensive program that supports and enhances the quality of life for Marines, their families, and others in the Marine Corps Community.Weoffer a team oriented environment comprised of military personnel, civilian employees, contractors and volunteers who keep the organization functioning smoothly and effectively. As a service-oriented organization, we never waver in our commitment to our Corps. | Bachelor&rsquo;s degree in Information Technology, Computer Science or a related field appropriate to the work of position AND three years of progressively technical experience in working with Business Intelligence or Decision Support solutions as a technical resource that demonstrates knowledge of software design principles, methods, approaches, and procedures to design, develop, optimize and integrate system components, OR an appropriate combination of education and experience that demonstrates possession of knowledge and skill equivalent to that gained in the above, OR appropriate experience that demonstrates that the applicant has acquired the knowledge, skills, and abilities equivalent to that gained in the above.Knowledge of pertinent government requirements and database management principles such as data structures, data modeling and data warehousing to design, debug and maintain software applications that meet technical and functional requirements. Skill to design and develop efficient and effective applications through use of reusable components, and ensure applications comply with requirements and are consistent with current and planned infrastructure and data environments. Strong understanding of relational database management systems and states of data presented in various data repositories. Strong working knowledge of SQL, UNIX, and Windows. Experience with Oracle RDBMS, Oracle Warehouse Builder, Oracle Data Integrator, Oracle PL/SQL and Cognos Analytics 10/11 to include Framework Manager is preferred. Good understanding of Business Intelligence tools like MicroStrategy and Tableau with Junior developer skills preferred. Knowledge and experience with design, development and testing metadata models is required. Working knowledge and experience applying BI solutions to business activities to include but not limited to: Finance, Procurement, Retail, Human Resources, Construction is preferred.\tCreative with a clear record of innovation and &ldquo;doing more with less.&rdquo;\tPolished and sophisticated programmer/analyst with strong presence. Assertive, but not aggressive or arrogant style.\tCommitment to excellence and continuous improvement; proactively seeks feedback.\tSelf-motivated, self-disciplined, self-assured, and performance driven.\tProactive, passion\n",
      "\n",
      "...next job...\n",
      "\n",
      "\n",
      "0.0278363925511 GEOINT Analyst (Geospatial Data Stewardship) | Department of Defense | National Geospatial-Intelligence Agency | https://www.usajobs.gov:443/GetJob/ViewDetails/480935500 | analyst_N_239_20171223115544.csv | JOB DESCRIPTION: GEOINT Analysts (Geospatial Data Stewardship) manage the generation, approval, and population of data within NGA's geospatial databases, ensuring that they can be used to satisfy customer requirements. They have read/write access to relevant databases and make qualitative decisions about the data. They have a wide range of product/data knowledge and understand the capabilities and limitations of the relevant systems to support the extraction, analysis, and finishing of in-house, co-production, commodity, and contract data. | DESIRABLE QUALIFICATION CRITERIA: In addition to the mandatory qualifications, experience in the following is desired: 1) Education: Cartography, Computer Science, Geology, Geography, Geomatics, GIS, Physical Science, Urban and Regional Planning, or a related discipline;\r\n",
      "2) Experience: Software Coding: C++ Java, AND/OR Statistics & Modelling: R, Python, AND/OR Query Languages: SQL, NoSQL, AND/OR Scripting: JavaScript, Python, Cloud Services Design, Algorithm Development, Data Visualization, Big Data /Data Modelling, Machine Vision & Deep Learning, Optimization.\n",
      "\n",
      "...next job...\n",
      "\n",
      "\n",
      "0.0268699954125 Data Architect NF4 | Department of the Navy | U.S. Marine Corps | https://www.usajobs.gov:443/GetJob/ViewDetails/485768400 | analyst_N_239_20171223115544.csv | Marine Corps Community Services (MCCS)is looking for the best and brightest to join our Team! MCCSis a comprehensive program that supports and enhances the quality of life for Marines, their families, and others in the Marine Corps Community.Weoffer a team oriented environment comprised of military personnel, civilian employees, contractors and volunteers who keep the organization functioning smoothly and effectively. As a service-oriented organization, we never waver in our commitment to our Corps. | Bachelor&rsquo;s degree in Engineering, Computer Science, Information Technology or a related field appropriate to the work of position and three years of progressive experience as a Data Architect and Data Analyst with architectural knowledge of establishing and implementing BI environments and hands on expert level expertise in designing, developing and testing Business Intelligence systems or an appropriate combination of education and experience that demonstrates possession of knowledge and skill equivalent to that gained in the above, or appropriate experience that demonstrates that the applicant has acquired the knowledge, skills, and abilities equivalent to that gained in the above. Comprehensive knowledge of SQL, cardinality, levels of granularity, normalized vs. denormalized, database and tool optimization techniques and other such reporting data architecture best practices is required. Knowledge and experience in implementing a data warehouse is required. Ability to outline the architecture and understand the benefits of data warehousing. Preferred skills include:\tUse of Cognos Framework Manager, Report Studio, and Query Studio;\tHigh level proficiency and experience with ETL tools such Oracle Warehouse Builder (OWB) , Oracle Data Integrator (ODI) and Informatica;\tExperience with Data Modelling tools such as ERWIN;\tExperience with Master Data Management tools;\tExperience with Microsoft SQL Server tools such SSIS; and\tExposure to Cloud Technologies preferred.As an authorized and privileged user of Department of Defense Information Systems must possess or receive Information Assurance awareness by completing the Security+ Certification as a condition of access within six months of employment, and thereafter must complete annual Information Assurance awareness training.\n",
      "\n",
      "...next job...\n",
      "\n",
      "\n",
      "0.0253826932798 Associate Director (Quality) | Department of the Treasury | Bureau of Engraving and Printing | https://www.usajobs.gov:443/GetJob/ViewDetails/487123500 | datascience_N_346_20171223115408.csv | As an executive in this agency, you will help lead the Bureau to fulfill its mission to develop and produce U.S. currency notes that are trusted world-wide. You will be part of a high-skill, high-energy, team with a vision of being the world-standard securities printer - providing Bureau customers and the public with superior products thru excellence in innovation and manufacturing. You will be in one of the best places to work in government and manage a growing, trillion-dollar, global, franchise - so that U.S. bank notes continue to drive commerce, are secure from counterfeiting, and remain the dominant currency in the world.The Bureau&#8217;s Associate Director for Quality (ADQ) has independent authority and accountability to the Director of the Bureau, the Federal Reserve Board and Federal Reserve Banks, and senior Department of Treasury (Treasury) executives (e.g., Treasurer of the United States) for quality assurance of U.S. currency.This executive works in partnership with the other executives in the Bureau, Treasury, Federal Reserve, U.S. Secret Service, industry suppliers, academic institutions, and bank equipment manufacturers to achieve the security (anti-counterfeiting) and world-class quality objectives of the U.S. Currency Program (USCP).This executive sponsors quality improvement activities across the Bureau and in partnership with other agencies. This executive works with other senior leaders on developing staff expertise, acquiring systems, sponsoring R&amp;D on new methods, and obtaining materials or facilities needed for quality assurance of U.S. currency products.This executive leads a multi-layer organization responsible for end-to-end quality assurance - from incoming materials thru to release of finished products. Work by teams reporting to this executive includes managing quality improvement projects, engineering improved quality assurance systems, analyzing data from sensor systems, statistical analysis and sampling, lab-based materials analysis, failure modes and effects analysis (FMEA), corrective and preventative actions (CAPAs), ISO-based internal audits, materials inspection and product inspection.Inspection of incoming materials, inspection of finished products, and authority to hold or release materials or products are performed by teams reporting directly to this executive &#8211; and this executive has final independent authority within the Bureau to hold or release either materials or product. | You must meet the following requirements by the closing date of this announcement either through your resume or responding to these ECQs and TPQs.Guidance on Addressing the ECQs and TPQs:Use your overall set of professional and volunteer experiences, education and training, accomplishments, awards and potential in describing your E\n",
      "\n",
      "...next job...\n"
     ]
    }
   ],
   "source": [
    "k = 0\n",
    "\n",
    "print(\"RESUME:\\n\")\n",
    "print(corpus[k][:150000])\n",
    "\n",
    "print(\"\\n============================================================================\\n\")\n",
    "print(\"MATCHED JOBS: \\n\")\n",
    "for index, score in find_similar(matrix, k):\n",
    "    print(\"\\n\")\n",
    "    print(score, corpus[index][:3000])\n",
    "    print(\"\\n...next job...\")"
   ]
  }
 ],
 "metadata": {
  "kernelspec": {
   "display_name": "Python 3",
   "language": "python",
   "name": "python3"
  },
  "language_info": {
   "codemirror_mode": {
    "name": "ipython",
    "version": 3
   },
   "file_extension": ".py",
   "mimetype": "text/x-python",
   "name": "python",
   "nbconvert_exporter": "python",
   "pygments_lexer": "ipython3",
   "version": "3.6.1"
  }
 },
 "nbformat": 4,
 "nbformat_minor": 2
}
