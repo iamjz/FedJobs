{
 "cells": [
  {
   "cell_type": "markdown",
   "metadata": {},
   "source": [
    "API Documentation: https://developer.usajobs.gov/API-Reference/GET-api-Search"
   ]
  },
  {
   "cell_type": "markdown",
   "metadata": {},
   "source": [
    "## INPUT PARAMETERS:"
   ]
  },
  {
   "cell_type": "code",
   "execution_count": 1046,
   "metadata": {
    "collapsed": true
   },
   "outputs": [],
   "source": [
    "# API Key \n",
    "# Request one at:\n",
    "# https://developer.usajobs.gov/APIRequest/Index\n",
    "\n",
    "apiKey = \"INSERT_API_KEY_HERE\""
   ]
  },
  {
   "cell_type": "code",
   "execution_count": 1047,
   "metadata": {
    "collapsed": true
   },
   "outputs": [],
   "source": [
    "# specifies whether results are current job postings or archived job postings\n",
    "# Y = Archived posts\n",
    "# N = Current posts\n",
    "\n",
    "archive = \"N\""
   ]
  },
  {
   "cell_type": "code",
   "execution_count": 1048,
   "metadata": {
    "collapsed": true
   },
   "outputs": [],
   "source": [
    "# specifies the number of results to retrieve\n",
    "# only for current searches\n",
    "\n",
    "resultsPerPage = 500"
   ]
  },
  {
   "cell_type": "code",
   "execution_count": 1049,
   "metadata": {
    "collapsed": true
   },
   "outputs": [],
   "source": [
    "# date range\n",
    "# ONLY FOR ARCHIVED JOB POSTINGS\n",
    "\n",
    "# format: MM/DD/YYYY\n",
    "\n",
    "startDate = \"12/01/2016\"\n",
    "endDate = \"12/30/2016\""
   ]
  },
  {
   "cell_type": "code",
   "execution_count": 1050,
   "metadata": {
    "collapsed": true
   },
   "outputs": [],
   "source": [
    "# Position Title\n",
    "\n",
    "title = \"data;science\""
   ]
  },
  {
   "cell_type": "markdown",
   "metadata": {},
   "source": [
    "## CODE BELOW:"
   ]
  },
  {
   "cell_type": "code",
   "execution_count": 1051,
   "metadata": {
    "collapsed": true
   },
   "outputs": [],
   "source": [
    "import requests\n",
    "import pandas as pd\n",
    "from bs4 import BeautifulSoup\n",
    "import numpy as np\n",
    "import time\n",
    "import datetime"
   ]
  },
  {
   "cell_type": "code",
   "execution_count": 1052,
   "metadata": {
    "collapsed": true
   },
   "outputs": [],
   "source": [
    "urlSearch = \"https://data.usajobs.gov/api/search?Keyword=\" + title + \"&KeywordFilter=All\""
   ]
  },
  {
   "cell_type": "code",
   "execution_count": 1053,
   "metadata": {
    "collapsed": true
   },
   "outputs": [],
   "source": [
    "urlArchive = \"https://data.usajobs.gov/api/Archive?PositionTitle=\" + title"
   ]
  },
  {
   "cell_type": "code",
   "execution_count": 1054,
   "metadata": {
    "collapsed": true
   },
   "outputs": [],
   "source": [
    "if (archive == \"Y\"):\n",
    "    url = urlArchive\n",
    "    url = url + \"&PostingStartDate=\" + startDate\n",
    "    url = url + \"&PostingEndDate=\" + endDate\n",
    "else:\n",
    "    url = urlSearch\n",
    "    url = url +  \"&ResultsPerPage=\" + str(resultsPerPage) "
   ]
  },
  {
   "cell_type": "code",
   "execution_count": 1055,
   "metadata": {},
   "outputs": [
    {
     "name": "stdout",
     "output_type": "stream",
     "text": [
      "API GET URL CALL:\n",
      "https://data.usajobs.gov/api/search?Keyword=data;engineer&KeywordFilter=All&ResultsPerPage=500\n"
     ]
    }
   ],
   "source": [
    "print(\"API GET URL CALL:\")\n",
    "print(url)"
   ]
  },
  {
   "cell_type": "code",
   "execution_count": 1056,
   "metadata": {
    "collapsed": true
   },
   "outputs": [],
   "source": [
    "headers = {\"Authorization-Key\": apiKey}"
   ]
  },
  {
   "cell_type": "code",
   "execution_count": 1057,
   "metadata": {},
   "outputs": [
    {
     "name": "stderr",
     "output_type": "stream",
     "text": [
      "/usr/lib/python3.4/site-packages/urllib3/connectionpool.py:852: InsecureRequestWarning: Unverified HTTPS request is being made. Adding certificate verification is strongly advised. See: https://urllib3.readthedocs.io/en/latest/advanced-usage.html#ssl-warnings\n",
      "  InsecureRequestWarning)\n"
     ]
    }
   ],
   "source": [
    "res = requests.get(url, headers = headers, verify = False)"
   ]
  },
  {
   "cell_type": "code",
   "execution_count": 1058,
   "metadata": {},
   "outputs": [
    {
     "name": "stdout",
     "output_type": "stream",
     "text": [
      "API Response code:  200\n"
     ]
    }
   ],
   "source": [
    "print(\"API Response code: \", res.status_code)"
   ]
  },
  {
   "cell_type": "code",
   "execution_count": 1059,
   "metadata": {
    "collapsed": true
   },
   "outputs": [],
   "source": [
    "response = res.json()"
   ]
  },
  {
   "cell_type": "code",
   "execution_count": 1060,
   "metadata": {
    "collapsed": true
   },
   "outputs": [],
   "source": [
    "def parseResults(searchResults):\n",
    "    \n",
    "    ApplicationCloseDate = []\n",
    "    ApplyURI = []\n",
    "    JobGrade = []\n",
    "    PositionStartDate = []\n",
    "    PositionEndDate = []\n",
    "    PositionID = []\n",
    "    PositionLocation = []\n",
    "    PositionLocationDisplay = []\n",
    "    QualificationSummary = []\n",
    "    OrganizationName = []\n",
    "    DepartmentName = []\n",
    "    OfferingType = []\n",
    "    MinPay = []\n",
    "    MaxPay = []\n",
    "    PayType = []\n",
    "    PositionTitle = []\n",
    "    JobSummary = []\n",
    "    \n",
    "    for r in searchResults:\n",
    "        if 'MatchedObjectDescriptor' in r:            \n",
    "            rr =  r.get(\"MatchedObjectDescriptor\", {})   \n",
    "            \n",
    "            r_ApplicationCloseDate = rr.get(\"ApplicationCloseDate\", None)\n",
    "            r_ApplyURI = rr.get(\"PositionURI\", None)\n",
    "            r_JobGrade = rr.get(\"JobGrade\", None)[0][\"Code\"]\n",
    "            r_PositionStartDate = rr.get(\"PositionStartDate\", None)\n",
    "            r_PositionEndDate = rr.get(\"PositionEndDate\", None)\n",
    "            r_PositionID = rr.get(\"PositionID\", None)\n",
    "            r_PositionLocationDisplay = rr.get(\"PositionLocationDisplay\", None)\n",
    "            r_QualificationSummary = rr.get(\"QualificationSummary\", None)            \n",
    "            r_OrganizationName = rr.get(\"OrganizationName\", None)\n",
    "            r_DepartmentName = rr.get(\"DepartmentName\", None)    \n",
    "            r_PositionLocation = rr.get(\"PositionLocation\", None)       \n",
    "            r_PositionTitle = rr.get(\"PositionTitle\", None)\n",
    "            \n",
    "            locations = []\n",
    "            for l in r_PositionLocation:\n",
    "                locations.append(l.get(\"CityName\", None)) \n",
    "            locations = '|'.join(str(locs) for locs in locations)\n",
    "            \n",
    "            r_OfferingType = rr.get(\"PositionOfferingType\", None)[0][\"Name\"]\n",
    "            r_MinPay = rr.get(\"PositionRemuneration\")[0][\"MinimumRange\"]\n",
    "            r_MaxPay = rr.get(\"PositionRemuneration\")[0][\"MaximumRange\"]\n",
    "            r_PayType = rr.get(\"PositionRemuneration\")[0][\"RateIntervalCode\"] \n",
    "            r_JobSummary = rr.get(\"UserArea\", {}).get(\"Details\", {}).get(\"JobSummary\", None)\n",
    "            \n",
    "            ApplicationCloseDate.append(r_ApplicationCloseDate)\n",
    "            ApplyURI.append(r_ApplyURI)\n",
    "            JobGrade.append(r_JobGrade)\n",
    "            PositionEndDate.append(r_PositionEndDate)\n",
    "            PositionID.append(r_PositionID)\n",
    "            PositionLocationDisplay.append(r_PositionLocationDisplay)\n",
    "            QualificationSummary.append(r_QualificationSummary)\n",
    "            OrganizationName.append(r_OrganizationName)\n",
    "            DepartmentName.append(r_DepartmentName)\n",
    "            PositionLocation.append(locations)\n",
    "            OfferingType.append(r_OfferingType)\n",
    "            MinPay.append(r_MinPay)\n",
    "            MaxPay.append(r_MaxPay)\n",
    "            PayType.append(r_PayType)\n",
    "            PositionStartDate.append(r_PositionStartDate)\n",
    "            PositionTitle.append(r_PositionTitle)\n",
    "            JobSummary.append(r_JobSummary)\n",
    "\n",
    "    return pd.DataFrame({\n",
    "            \"PositionID\": PositionID,\n",
    "            \"ApplicationCloseDate\": ApplicationCloseDate,\n",
    "            \"JobGrade\": JobGrade,\n",
    "            \"PositionEndDate\": PositionEndDate,   \n",
    "            \"OrganizationName\": OrganizationName, \n",
    "            \"DepartmentName\": DepartmentName,\n",
    "            \"QualificationSummary\": QualificationSummary,\n",
    "            \"URI\": ApplyURI,\n",
    "            \"PositionLocation\": PositionLocation,\n",
    "            \"OfferingType\": OfferingType,\n",
    "            \"MinPay\": MinPay,\n",
    "            \"MaxPay\": MaxPay,\n",
    "            \"PayType\": PayType,\n",
    "            \"PositionStartDate\": PositionStartDate,\n",
    "            \"PositionTitle\": PositionTitle,\n",
    "            \"JobSummary\": JobSummary\n",
    "    })"
   ]
  },
  {
   "cell_type": "code",
   "execution_count": 1061,
   "metadata": {
    "collapsed": true
   },
   "outputs": [],
   "source": [
    "def convertToDataframe(res):\n",
    "    \n",
    "    response = res.json()\n",
    "    print(\"==============================================================\")\n",
    "    if ('SearchResult' in response):\n",
    "        \n",
    "        if (archive != \"Y\"):\n",
    "            searchResultNumber = response.get(\"SearchResult\", {}).get(\"SearchResultCountAll\", 0)\n",
    "        else:\n",
    "            searchResultNumber = response.get(\"SearchResult\", {}).get(\"SearchResultCount\", 0)\n",
    "            \n",
    "        print(searchResultNumber, \"results found in API response...\")        \n",
    "        \n",
    "        if (searchResultNumber > 0):\n",
    "            searchResults = response.get(\"SearchResult\", {}).get(\"SearchResultItems\", None)\n",
    "            \n",
    "            if (len(searchResults) > 0):\n",
    "                t0 = time.time()\n",
    "                print(\"Parsing in progress...\")\n",
    "                df = parseResults(searchResults).reset_index(drop = True)\n",
    "                t1 = time.time()\n",
    "                print(\"Parse complete. \\nDuration: \", round(t1-t0, 5), \" seconds.\")\n",
    "                print(\"Number of records: \", len(df))\n",
    "                return df\n",
    "            else:\n",
    "                print(\"No Search Results.\")        \n",
    "        else:\n",
    "            print(\"Search Result Number = 0.\")                \n",
    "    else:\n",
    "        print(\"No SearchResult found in json response.\")   "
   ]
  },
  {
   "cell_type": "code",
   "execution_count": 1062,
   "metadata": {},
   "outputs": [
    {
     "name": "stdout",
     "output_type": "stream",
     "text": [
      "==============================================================\n",
      "91 results found in API response...\n",
      "Parsing in progress...\n",
      "Parse complete. \n",
      "Duration:  0.00863  seconds.\n",
      "Number of records:  91\n"
     ]
    }
   ],
   "source": [
    "df = convertToDataframe(res)"
   ]
  },
  {
   "cell_type": "code",
   "execution_count": 1063,
   "metadata": {},
   "outputs": [
    {
     "name": "stdout",
     "output_type": "stream",
     "text": [
      "dataengineer_N_91_20171126211753.csv\n"
     ]
    }
   ],
   "source": [
    "now = datetime.datetime.now()\n",
    "\n",
    "nowDate = str(now).split(\" \")[0].replace(\"-\", \"\")\n",
    "nowHour = str(now).split(\" \")[1].split(\":\")[0]\n",
    "nowMin = str(now).split(\" \")[1].split(\":\")[1]\n",
    "nowSec = str(now).split(\" \")[1].split(\":\")[2].split(\".\")[0]\n",
    "\n",
    "nowString = nowDate + nowHour + nowMin + nowSec\n",
    "\n",
    "searchDates = \"\"\n",
    "\n",
    "if archive == \"Y\":\n",
    "    searchDates = \"_\" + str(startDate) + \"_\" + str(endDate)\n",
    "    searchDates = searchDates.replace(\"/\", \"\")\n",
    "\n",
    "fileName = title.replace(\";\", \"\") + \"_\" + archive + \"_\" + str(len(df)) + \"_\" + nowString + searchDates + \".csv\"\n",
    "\n",
    "print(fileName)"
   ]
  },
  {
   "cell_type": "code",
   "execution_count": 1064,
   "metadata": {
    "collapsed": true
   },
   "outputs": [],
   "source": [
    "df.to_csv(fileName)"
   ]
  },
  {
   "cell_type": "code",
   "execution_count": 1065,
   "metadata": {
    "scrolled": false
   },
   "outputs": [
    {
     "data": {
      "text/html": [
       "<div>\n",
       "<style>\n",
       "    .dataframe thead tr:only-child th {\n",
       "        text-align: right;\n",
       "    }\n",
       "\n",
       "    .dataframe thead th {\n",
       "        text-align: left;\n",
       "    }\n",
       "\n",
       "    .dataframe tbody tr th {\n",
       "        vertical-align: top;\n",
       "    }\n",
       "</style>\n",
       "<table border=\"1\" class=\"dataframe\">\n",
       "  <thead>\n",
       "    <tr style=\"text-align: right;\">\n",
       "      <th></th>\n",
       "      <th>0</th>\n",
       "      <th>1</th>\n",
       "      <th>2</th>\n",
       "      <th>3</th>\n",
       "      <th>4</th>\n",
       "    </tr>\n",
       "  </thead>\n",
       "  <tbody>\n",
       "    <tr>\n",
       "      <th>ApplicationCloseDate</th>\n",
       "      <td>2017-12-30</td>\n",
       "      <td>2017-11-27</td>\n",
       "      <td>2017-12-11</td>\n",
       "      <td>2017-12-05</td>\n",
       "      <td>2017-12-05</td>\n",
       "    </tr>\n",
       "    <tr>\n",
       "      <th>DepartmentName</th>\n",
       "      <td>Department of Defense</td>\n",
       "      <td>National Aeronautics and Space Administration</td>\n",
       "      <td>National Aeronautics and Space Administration</td>\n",
       "      <td>Department of the Air Force</td>\n",
       "      <td>Department of Commerce</td>\n",
       "    </tr>\n",
       "    <tr>\n",
       "      <th>JobGrade</th>\n",
       "      <td>IA</td>\n",
       "      <td>GS</td>\n",
       "      <td>GS</td>\n",
       "      <td>GG</td>\n",
       "      <td>ZP</td>\n",
       "    </tr>\n",
       "    <tr>\n",
       "      <th>JobSummary</th>\n",
       "      <td>JOB DESCRIPTION: Data Engineers develop, const...</td>\n",
       "      <td>The Applied Engineering and Technology Directo...</td>\n",
       "      <td>The Applied Engineering and Technology Directo...</td>\n",
       "      <td>To achieve that mission, the Air Force has a v...</td>\n",
       "      <td>This position is located in the National Envir...</td>\n",
       "    </tr>\n",
       "    <tr>\n",
       "      <th>MaxPay</th>\n",
       "      <td>123234.0</td>\n",
       "      <td>145629.0</td>\n",
       "      <td>145629.0</td>\n",
       "      <td>95884.0000</td>\n",
       "      <td>161900.0</td>\n",
       "    </tr>\n",
       "    <tr>\n",
       "      <th>MinPay</th>\n",
       "      <td>60613.0</td>\n",
       "      <td>112021.0</td>\n",
       "      <td>94796.0</td>\n",
       "      <td>73755.0000</td>\n",
       "      <td>131767.0</td>\n",
       "    </tr>\n",
       "    <tr>\n",
       "      <th>OfferingType</th>\n",
       "      <td>This is a permanent position.</td>\n",
       "      <td>Permanent</td>\n",
       "      <td>Permanent</td>\n",
       "      <td>Permanent</td>\n",
       "      <td>Permanent</td>\n",
       "    </tr>\n",
       "    <tr>\n",
       "      <th>OrganizationName</th>\n",
       "      <td>National Geospatial-Intelligence Agency</td>\n",
       "      <td>Goddard Space Flight Center</td>\n",
       "      <td>Goddard Space Flight Center</td>\n",
       "      <td>Air Force Intelligence Analysis Agency</td>\n",
       "      <td>National Oceanic and Atmospheric Administration</td>\n",
       "    </tr>\n",
       "    <tr>\n",
       "      <th>PayType</th>\n",
       "      <td>Per Year</td>\n",
       "      <td>Per Year</td>\n",
       "      <td>Per Year</td>\n",
       "      <td>Per Year</td>\n",
       "      <td>Per Year</td>\n",
       "    </tr>\n",
       "    <tr>\n",
       "      <th>PositionEndDate</th>\n",
       "      <td>2017-12-30</td>\n",
       "      <td>2017-11-27</td>\n",
       "      <td>2017-12-11</td>\n",
       "      <td>2017-12-05</td>\n",
       "      <td>2017-12-05</td>\n",
       "    </tr>\n",
       "    <tr>\n",
       "      <th>PositionID</th>\n",
       "      <td>20180083</td>\n",
       "      <td>GS18C0035</td>\n",
       "      <td>GS18C0044</td>\n",
       "      <td>9X-DCIPS-10072628-042044-HW</td>\n",
       "      <td>NESDIS-2018-0004</td>\n",
       "    </tr>\n",
       "    <tr>\n",
       "      <th>PositionLocation</th>\n",
       "      <td>Saint Louis, Missouri|Springfield, Virginia</td>\n",
       "      <td>Greenbelt, Maryland</td>\n",
       "      <td>Greenbelt, Maryland</td>\n",
       "      <td>Wright-Patterson AFB, Ohio</td>\n",
       "      <td>Silver Spring, Maryland</td>\n",
       "    </tr>\n",
       "    <tr>\n",
       "      <th>PositionStartDate</th>\n",
       "      <td>2017-10-23</td>\n",
       "      <td>2017-11-08</td>\n",
       "      <td>2017-11-22</td>\n",
       "      <td>2017-11-21</td>\n",
       "      <td>2017-11-14</td>\n",
       "    </tr>\n",
       "    <tr>\n",
       "      <th>PositionTitle</th>\n",
       "      <td>Data Engineer</td>\n",
       "      <td>Computer Engineer, AST, Data Systems</td>\n",
       "      <td>Computer Engineer, AST, Data Systems</td>\n",
       "      <td>Computer Engineer/Data Scientist/Computer Scie...</td>\n",
       "      <td>Supervisory General Engineer, ZP-0801-5 (DE/CR)</td>\n",
       "    </tr>\n",
       "    <tr>\n",
       "      <th>QualificationSummary</th>\n",
       "      <td>1) Education: Computer Science, Applied Mathem...</td>\n",
       "      <td>In addition to meeting the Basic Education Req...</td>\n",
       "      <td>In addition to meeting the Basic Education Req...</td>\n",
       "      <td>In order to qualify, you must meet the educati...</td>\n",
       "      <td>Qualification requirements in the vacancy anno...</td>\n",
       "    </tr>\n",
       "    <tr>\n",
       "      <th>URI</th>\n",
       "      <td>https://www.usajobs.gov:443/GetJob/ViewDetails...</td>\n",
       "      <td>https://www.usajobs.gov:443/GetJob/ViewDetails...</td>\n",
       "      <td>https://www.usajobs.gov:443/GetJob/ViewDetails...</td>\n",
       "      <td>https://www.usajobs.gov:443/GetJob/ViewDetails...</td>\n",
       "      <td>https://www.usajobs.gov:443/GetJob/ViewDetails...</td>\n",
       "    </tr>\n",
       "  </tbody>\n",
       "</table>\n",
       "</div>"
      ],
      "text/plain": [
       "                                                                      0  \\\n",
       "ApplicationCloseDate                                         2017-12-30   \n",
       "DepartmentName                                    Department of Defense   \n",
       "JobGrade                                                             IA   \n",
       "JobSummary            JOB DESCRIPTION: Data Engineers develop, const...   \n",
       "MaxPay                                                         123234.0   \n",
       "MinPay                                                          60613.0   \n",
       "OfferingType                              This is a permanent position.   \n",
       "OrganizationName                National Geospatial-Intelligence Agency   \n",
       "PayType                                                        Per Year   \n",
       "PositionEndDate                                              2017-12-30   \n",
       "PositionID                                                     20180083   \n",
       "PositionLocation            Saint Louis, Missouri|Springfield, Virginia   \n",
       "PositionStartDate                                            2017-10-23   \n",
       "PositionTitle                                             Data Engineer   \n",
       "QualificationSummary  1) Education: Computer Science, Applied Mathem...   \n",
       "URI                   https://www.usajobs.gov:443/GetJob/ViewDetails...   \n",
       "\n",
       "                                                                      1  \\\n",
       "ApplicationCloseDate                                         2017-11-27   \n",
       "DepartmentName            National Aeronautics and Space Administration   \n",
       "JobGrade                                                             GS   \n",
       "JobSummary            The Applied Engineering and Technology Directo...   \n",
       "MaxPay                                                         145629.0   \n",
       "MinPay                                                         112021.0   \n",
       "OfferingType                                                  Permanent   \n",
       "OrganizationName                            Goddard Space Flight Center   \n",
       "PayType                                                        Per Year   \n",
       "PositionEndDate                                              2017-11-27   \n",
       "PositionID                                                    GS18C0035   \n",
       "PositionLocation                                    Greenbelt, Maryland   \n",
       "PositionStartDate                                            2017-11-08   \n",
       "PositionTitle                      Computer Engineer, AST, Data Systems   \n",
       "QualificationSummary  In addition to meeting the Basic Education Req...   \n",
       "URI                   https://www.usajobs.gov:443/GetJob/ViewDetails...   \n",
       "\n",
       "                                                                      2  \\\n",
       "ApplicationCloseDate                                         2017-12-11   \n",
       "DepartmentName            National Aeronautics and Space Administration   \n",
       "JobGrade                                                             GS   \n",
       "JobSummary            The Applied Engineering and Technology Directo...   \n",
       "MaxPay                                                         145629.0   \n",
       "MinPay                                                          94796.0   \n",
       "OfferingType                                                  Permanent   \n",
       "OrganizationName                            Goddard Space Flight Center   \n",
       "PayType                                                        Per Year   \n",
       "PositionEndDate                                              2017-12-11   \n",
       "PositionID                                                    GS18C0044   \n",
       "PositionLocation                                    Greenbelt, Maryland   \n",
       "PositionStartDate                                            2017-11-22   \n",
       "PositionTitle                      Computer Engineer, AST, Data Systems   \n",
       "QualificationSummary  In addition to meeting the Basic Education Req...   \n",
       "URI                   https://www.usajobs.gov:443/GetJob/ViewDetails...   \n",
       "\n",
       "                                                                      3  \\\n",
       "ApplicationCloseDate                                         2017-12-05   \n",
       "DepartmentName                              Department of the Air Force   \n",
       "JobGrade                                                             GG   \n",
       "JobSummary            To achieve that mission, the Air Force has a v...   \n",
       "MaxPay                                                       95884.0000   \n",
       "MinPay                                                       73755.0000   \n",
       "OfferingType                                                  Permanent   \n",
       "OrganizationName                 Air Force Intelligence Analysis Agency   \n",
       "PayType                                                        Per Year   \n",
       "PositionEndDate                                              2017-12-05   \n",
       "PositionID                                  9X-DCIPS-10072628-042044-HW   \n",
       "PositionLocation                             Wright-Patterson AFB, Ohio   \n",
       "PositionStartDate                                            2017-11-21   \n",
       "PositionTitle         Computer Engineer/Data Scientist/Computer Scie...   \n",
       "QualificationSummary  In order to qualify, you must meet the educati...   \n",
       "URI                   https://www.usajobs.gov:443/GetJob/ViewDetails...   \n",
       "\n",
       "                                                                      4  \n",
       "ApplicationCloseDate                                         2017-12-05  \n",
       "DepartmentName                                   Department of Commerce  \n",
       "JobGrade                                                             ZP  \n",
       "JobSummary            This position is located in the National Envir...  \n",
       "MaxPay                                                         161900.0  \n",
       "MinPay                                                         131767.0  \n",
       "OfferingType                                                  Permanent  \n",
       "OrganizationName        National Oceanic and Atmospheric Administration  \n",
       "PayType                                                        Per Year  \n",
       "PositionEndDate                                              2017-12-05  \n",
       "PositionID                                             NESDIS-2018-0004  \n",
       "PositionLocation                                Silver Spring, Maryland  \n",
       "PositionStartDate                                            2017-11-14  \n",
       "PositionTitle           Supervisory General Engineer, ZP-0801-5 (DE/CR)  \n",
       "QualificationSummary  Qualification requirements in the vacancy anno...  \n",
       "URI                   https://www.usajobs.gov:443/GetJob/ViewDetails...  "
      ]
     },
     "execution_count": 1065,
     "metadata": {},
     "output_type": "execute_result"
    }
   ],
   "source": [
    "df.head().transpose()"
   ]
  }
 ],
 "metadata": {
  "kernelspec": {
   "display_name": "Python 3",
   "language": "python",
   "name": "python3"
  },
  "language_info": {
   "codemirror_mode": {
    "name": "ipython",
    "version": 3
   },
   "file_extension": ".py",
   "mimetype": "text/x-python",
   "name": "python",
   "nbconvert_exporter": "python",
   "pygments_lexer": "ipython3",
   "version": "3.6.1"
  }
 },
 "nbformat": 4,
 "nbformat_minor": 2
}
