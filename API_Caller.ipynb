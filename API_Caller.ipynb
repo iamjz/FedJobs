{
 "cells": [
  {
   "cell_type": "markdown",
   "metadata": {},
   "source": [
    "This notebook hits the federal USA jobs database to retrieve both current and archived jobs based on given keywords and/or dates. **To get this working, make sure you have a folder called \"collected_data\" in the same directory level as this notebook.** The collected datasets will be dropped into that folder. \n",
    "\n",
    "To use this, simply input your parameters in the section below. Click on the \"Cell\" tab then \"Run All\". \n",
    "\n",
    "API Documentation: https://developer.usajobs.gov/API-Reference/GET-api-Search"
   ]
  },
  {
   "cell_type": "markdown",
   "metadata": {},
   "source": [
    "### FILENAME CONVENTIONS:\n",
    "\n",
    "See examples below:\n",
    "\n",
    "**datascience_N_346_20171223111701.csv** for current jobs:\n",
    "\n",
    "* Keyword = datascience\n",
    "* Y/N (Y = Archived/N = Current)\n",
    "* Number of results = 346\n",
    "* Current Datetime stamp = 20171223111701 (2017-12-23 on 11:11am)\n",
    "\n",
    "**geospatial_Y_4_20171223112709_12012016_12302016.csv** for archived jobs:\n",
    "\n",
    "* Keyword = geospatial\n",
    "* Y/N (Y = Archived/N = Current)\n",
    "* Number of results = 4\n",
    "* Current Datetime stamp = 20171223112709 (2017-12-23 on 11:27am)\n",
    "* From Archived Date = 12012016 (12/01/2016)\n",
    "* To Archived Date = 12302016 (12/30/2016)\n",
    "\n",
    "\n"
   ]
  },
  {
   "cell_type": "markdown",
   "metadata": {},
   "source": [
    "## INPUT PARAMETERS:"
   ]
  },
  {
   "cell_type": "code",
   "execution_count": 317,
   "metadata": {
    "collapsed": true
   },
   "outputs": [],
   "source": [
    "# API Key \n",
    "# Request one at:\n",
    "# https://developer.usajobs.gov/APIRequest/Index\n",
    "\n",
    "apiKey = \"REQUEST YOUR API KEY AND INSERT IT HERE\""
   ]
  },
  {
   "cell_type": "code",
   "execution_count": 318,
   "metadata": {
    "collapsed": true
   },
   "outputs": [],
   "source": [
    "# specifies whether results are current job postings or archived job postings\n",
    "# Y = Archived posts\n",
    "# N = Current posts\n",
    "\n",
    "archive = \"N\""
   ]
  },
  {
   "cell_type": "code",
   "execution_count": 319,
   "metadata": {
    "collapsed": true
   },
   "outputs": [],
   "source": [
    "# specifies the number of results to retrieve\n",
    "# only for current searches\n",
    "\n",
    "resultsPerPage = 500"
   ]
  },
  {
   "cell_type": "code",
   "execution_count": 320,
   "metadata": {
    "collapsed": true
   },
   "outputs": [],
   "source": [
    "# date range\n",
    "# ONLY FOR ARCHIVED JOB POSTINGS\n",
    "\n",
    "# format: MM/DD/YYYY\n",
    "\n",
    "startDate = \"01/01/2016\"\n",
    "endDate = \"12/31/2016\""
   ]
  },
  {
   "cell_type": "code",
   "execution_count": 321,
   "metadata": {
    "collapsed": true
   },
   "outputs": [],
   "source": [
    "# Position Title\n",
    "\n",
    "title = \"strategic\""
   ]
  },
  {
   "cell_type": "markdown",
   "metadata": {},
   "source": [
    "## CODE BELOW:"
   ]
  },
  {
   "cell_type": "code",
   "execution_count": 322,
   "metadata": {
    "collapsed": true
   },
   "outputs": [],
   "source": [
    "import requests\n",
    "import pandas as pd\n",
    "from bs4 import BeautifulSoup\n",
    "import numpy as np\n",
    "import time\n",
    "import datetime\n",
    "import os"
   ]
  },
  {
   "cell_type": "code",
   "execution_count": 323,
   "metadata": {
    "collapsed": true
   },
   "outputs": [],
   "source": [
    "urlSearch = \"https://data.usajobs.gov/api/search?Keyword=\" + title + \"&KeywordFilter=All\""
   ]
  },
  {
   "cell_type": "code",
   "execution_count": 324,
   "metadata": {
    "collapsed": true
   },
   "outputs": [],
   "source": [
    "urlArchive = \"https://data.usajobs.gov/api/Archive?PositionTitle=\" + title"
   ]
  },
  {
   "cell_type": "code",
   "execution_count": 325,
   "metadata": {
    "collapsed": true
   },
   "outputs": [],
   "source": [
    "if (archive == \"Y\"):\n",
    "    url = urlArchive\n",
    "    url = url + \"&PostingStartDate=\" + startDate\n",
    "    url = url + \"&PostingEndDate=\" + endDate\n",
    "else:\n",
    "    url = urlSearch\n",
    "    url = url +  \"&ResultsPerPage=\" + str(resultsPerPage) "
   ]
  },
  {
   "cell_type": "code",
   "execution_count": 326,
   "metadata": {},
   "outputs": [
    {
     "name": "stdout",
     "output_type": "stream",
     "text": [
      "API GET URL CALL:\n",
      "https://data.usajobs.gov/api/search?Keyword=strategic&KeywordFilter=All&ResultsPerPage=500\n"
     ]
    }
   ],
   "source": [
    "print(\"API GET URL CALL:\")\n",
    "print(url)"
   ]
  },
  {
   "cell_type": "code",
   "execution_count": 327,
   "metadata": {
    "collapsed": true
   },
   "outputs": [],
   "source": [
    "headers = {\"Authorization-Key\": apiKey}"
   ]
  },
  {
   "cell_type": "code",
   "execution_count": 328,
   "metadata": {},
   "outputs": [
    {
     "name": "stderr",
     "output_type": "stream",
     "text": [
      "C:\\Users\\Jacky Zhao\\Anaconda3\\lib\\site-packages\\requests\\packages\\urllib3\\connectionpool.py:852: InsecureRequestWarning: Unverified HTTPS request is being made. Adding certificate verification is strongly advised. See: https://urllib3.readthedocs.io/en/latest/advanced-usage.html#ssl-warnings\n",
      "  InsecureRequestWarning)\n"
     ]
    }
   ],
   "source": [
    "res = requests.get(url, headers = headers, verify = False)"
   ]
  },
  {
   "cell_type": "code",
   "execution_count": 329,
   "metadata": {},
   "outputs": [
    {
     "name": "stdout",
     "output_type": "stream",
     "text": [
      "API Response code:  200\n"
     ]
    }
   ],
   "source": [
    "print(\"API Response code: \", res.status_code)"
   ]
  },
  {
   "cell_type": "code",
   "execution_count": 330,
   "metadata": {
    "collapsed": true
   },
   "outputs": [],
   "source": [
    "response = res.json()"
   ]
  },
  {
   "cell_type": "code",
   "execution_count": 331,
   "metadata": {
    "collapsed": true
   },
   "outputs": [],
   "source": [
    "def parseResults(searchResults):\n",
    "    \n",
    "    ApplicationCloseDate = []\n",
    "    ApplyURI = []\n",
    "    JobGrade = []\n",
    "    PositionStartDate = []\n",
    "    PositionEndDate = []\n",
    "    PositionID = []\n",
    "    PositionLocation = []\n",
    "    PositionLocationDisplay = []\n",
    "    QualificationSummary = []\n",
    "    OrganizationName = []\n",
    "    DepartmentName = []\n",
    "    OfferingType = []\n",
    "    MinPay = []\n",
    "    MaxPay = []\n",
    "    PayType = []\n",
    "    PositionTitle = []\n",
    "    JobSummary = []\n",
    "    \n",
    "    for r in searchResults:\n",
    "        if 'MatchedObjectDescriptor' in r:            \n",
    "            rr =  r.get(\"MatchedObjectDescriptor\", {})   \n",
    "            \n",
    "            r_ApplicationCloseDate = rr.get(\"ApplicationCloseDate\", None)\n",
    "            r_ApplyURI = rr.get(\"PositionURI\", None)\n",
    "            r_JobGrade = rr.get(\"JobGrade\", None)[0][\"Code\"]\n",
    "            r_PositionStartDate = rr.get(\"PositionStartDate\", None)\n",
    "            r_PositionEndDate = rr.get(\"PositionEndDate\", None)\n",
    "            r_PositionID = rr.get(\"PositionID\", None)\n",
    "            r_PositionLocationDisplay = rr.get(\"PositionLocationDisplay\", None)\n",
    "            r_QualificationSummary = rr.get(\"QualificationSummary\", None)            \n",
    "            r_OrganizationName = rr.get(\"OrganizationName\", None)\n",
    "            r_DepartmentName = rr.get(\"DepartmentName\", None)    \n",
    "            r_PositionLocation = rr.get(\"PositionLocation\", None)       \n",
    "            r_PositionTitle = rr.get(\"PositionTitle\", None)\n",
    "            \n",
    "            locations = []\n",
    "            for l in r_PositionLocation:\n",
    "                locations.append(l.get(\"CityName\", None)) \n",
    "            locations = '|'.join(str(locs) for locs in locations)\n",
    "            \n",
    "            r_OfferingType = rr.get(\"PositionOfferingType\", None)[0][\"Name\"]\n",
    "            r_MinPay = rr.get(\"PositionRemuneration\")[0][\"MinimumRange\"]\n",
    "            r_MaxPay = rr.get(\"PositionRemuneration\")[0][\"MaximumRange\"]\n",
    "            r_PayType = rr.get(\"PositionRemuneration\")[0][\"RateIntervalCode\"] \n",
    "            r_JobSummary = rr.get(\"UserArea\", {}).get(\"Details\", {}).get(\"JobSummary\", None)\n",
    "            \n",
    "            ApplicationCloseDate.append(r_ApplicationCloseDate)\n",
    "            ApplyURI.append(r_ApplyURI)\n",
    "            JobGrade.append(r_JobGrade)\n",
    "            PositionEndDate.append(r_PositionEndDate)\n",
    "            PositionID.append(r_PositionID)\n",
    "            PositionLocationDisplay.append(r_PositionLocationDisplay)\n",
    "            QualificationSummary.append(r_QualificationSummary)\n",
    "            OrganizationName.append(r_OrganizationName)\n",
    "            DepartmentName.append(r_DepartmentName)\n",
    "            PositionLocation.append(locations)\n",
    "            OfferingType.append(r_OfferingType)\n",
    "            MinPay.append(r_MinPay)\n",
    "            MaxPay.append(r_MaxPay)\n",
    "            PayType.append(r_PayType)\n",
    "            PositionStartDate.append(r_PositionStartDate)\n",
    "            PositionTitle.append(r_PositionTitle)\n",
    "            JobSummary.append(r_JobSummary)\n",
    "\n",
    "    return pd.DataFrame({\n",
    "            \"PositionID\": PositionID,\n",
    "            \"ApplicationCloseDate\": ApplicationCloseDate,\n",
    "            \"JobGrade\": JobGrade,\n",
    "            \"PositionEndDate\": PositionEndDate,   \n",
    "            \"OrganizationName\": OrganizationName, \n",
    "            \"DepartmentName\": DepartmentName,\n",
    "            \"QualificationSummary\": QualificationSummary,\n",
    "            \"URI\": ApplyURI,\n",
    "            \"PositionLocation\": PositionLocation,\n",
    "            \"OfferingType\": OfferingType,\n",
    "            \"MinPay\": MinPay,\n",
    "            \"MaxPay\": MaxPay,\n",
    "            \"PayType\": PayType,\n",
    "            \"PositionStartDate\": PositionStartDate,\n",
    "            \"PositionTitle\": PositionTitle,\n",
    "            \"JobSummary\": JobSummary\n",
    "    })"
   ]
  },
  {
   "cell_type": "code",
   "execution_count": 332,
   "metadata": {
    "collapsed": true
   },
   "outputs": [],
   "source": [
    "def convertToDataframe(res):\n",
    "    \n",
    "    response = res.json()\n",
    "    print(\"==============================================================\")\n",
    "    if ('SearchResult' in response):\n",
    "        \n",
    "        if (archive != \"Y\"):\n",
    "            searchResultNumber = response.get(\"SearchResult\", {}).get(\"SearchResultCountAll\", 0)\n",
    "        else:\n",
    "            searchResultNumber = response.get(\"SearchResult\", {}).get(\"SearchResultCount\", 0)\n",
    "            \n",
    "        print(searchResultNumber, \"results found in API response...\")        \n",
    "        \n",
    "        if (searchResultNumber > 0):\n",
    "            searchResults = response.get(\"SearchResult\", {}).get(\"SearchResultItems\", None)\n",
    "            \n",
    "            if (len(searchResults) > 0):\n",
    "                t0 = time.time()\n",
    "                print(\"Parsing in progress...\")\n",
    "                df = parseResults(searchResults).reset_index(drop = True)\n",
    "                t1 = time.time()\n",
    "                print(\"Parse complete. \\nDuration: \", round(t1-t0, 5), \" seconds.\")\n",
    "                print(\"Number of records: \", len(df))\n",
    "                return df\n",
    "            else:\n",
    "                print(\"No Search Results.\")        \n",
    "        else:\n",
    "            print(\"Search Result Number = 0.\")                \n",
    "    else:\n",
    "        print(\"No SearchResult found in json response.\")   "
   ]
  },
  {
   "cell_type": "code",
   "execution_count": 333,
   "metadata": {},
   "outputs": [
    {
     "name": "stdout",
     "output_type": "stream",
     "text": [
      "==============================================================\n",
      "339 results found in API response...\n",
      "Parsing in progress...\n",
      "Parse complete. \n",
      "Duration:  0.00602  seconds.\n",
      "Number of records:  339\n"
     ]
    }
   ],
   "source": [
    "df = convertToDataframe(res)"
   ]
  },
  {
   "cell_type": "code",
   "execution_count": 334,
   "metadata": {},
   "outputs": [
    {
     "name": "stdout",
     "output_type": "stream",
     "text": [
      "strategic_N_339_20171224133904.csv\n"
     ]
    }
   ],
   "source": [
    "now = datetime.datetime.now()\n",
    "\n",
    "nowDate = str(now).split(\" \")[0].replace(\"-\", \"\")\n",
    "nowHour = str(now).split(\" \")[1].split(\":\")[0]\n",
    "nowMin = str(now).split(\" \")[1].split(\":\")[1]\n",
    "nowSec = str(now).split(\" \")[1].split(\":\")[2].split(\".\")[0]\n",
    "\n",
    "nowString = nowDate + nowHour + nowMin + nowSec\n",
    "\n",
    "searchDates = \"\"\n",
    "\n",
    "if archive == \"Y\":\n",
    "    searchDates = \"_\" + str(startDate) + \"_\" + str(endDate)\n",
    "    searchDates = searchDates.replace(\"/\", \"\")\n",
    "\n",
    "fileName = title.replace(\";\", \"\") + \"_\" + archive + \"_\" + str(len(df)) + \"_\" + nowString + searchDates + \".csv\"\n",
    "\n",
    "print(fileName)"
   ]
  },
  {
   "cell_type": "code",
   "execution_count": 335,
   "metadata": {
    "collapsed": true
   },
   "outputs": [],
   "source": [
    "df.to_csv(os.path.join(\"collected_data\", fileName), index = False)"
   ]
  },
  {
   "cell_type": "code",
   "execution_count": 336,
   "metadata": {
    "scrolled": false
   },
   "outputs": [
    {
     "data": {
      "text/html": [
       "<div>\n",
       "<style>\n",
       "    .dataframe thead tr:only-child th {\n",
       "        text-align: right;\n",
       "    }\n",
       "\n",
       "    .dataframe thead th {\n",
       "        text-align: left;\n",
       "    }\n",
       "\n",
       "    .dataframe tbody tr th {\n",
       "        vertical-align: top;\n",
       "    }\n",
       "</style>\n",
       "<table border=\"1\" class=\"dataframe\">\n",
       "  <thead>\n",
       "    <tr style=\"text-align: right;\">\n",
       "      <th></th>\n",
       "      <th>0</th>\n",
       "      <th>1</th>\n",
       "      <th>2</th>\n",
       "      <th>3</th>\n",
       "      <th>4</th>\n",
       "    </tr>\n",
       "  </thead>\n",
       "  <tbody>\n",
       "    <tr>\n",
       "      <th>ApplicationCloseDate</th>\n",
       "      <td>2018-01-02</td>\n",
       "      <td>2018-01-03</td>\n",
       "      <td>2018-01-02</td>\n",
       "      <td>2018-02-06</td>\n",
       "      <td>2018-01-22</td>\n",
       "    </tr>\n",
       "    <tr>\n",
       "      <th>DepartmentName</th>\n",
       "      <td>Department of Defense</td>\n",
       "      <td>Department of the Army</td>\n",
       "      <td>Department of Veterans Affairs</td>\n",
       "      <td>Department of the Air Force</td>\n",
       "      <td>Department of the Army</td>\n",
       "    </tr>\n",
       "    <tr>\n",
       "      <th>JobGrade</th>\n",
       "      <td>GS</td>\n",
       "      <td>GS</td>\n",
       "      <td>ES</td>\n",
       "      <td>AD</td>\n",
       "      <td>AD</td>\n",
       "    </tr>\n",
       "    <tr>\n",
       "      <th>JobSummary</th>\n",
       "      <td>This position is part of the Organization of t...</td>\n",
       "      <td>This National Guard position is for a STRATEGI...</td>\n",
       "      <td>The Deputy Chief Information Officer (DCIO), S...</td>\n",
       "      <td>The mission of the United States Air Force is ...</td>\n",
       "      <td>The Army War College is the U.S. Army&amp;#39;s mo...</td>\n",
       "    </tr>\n",
       "    <tr>\n",
       "      <th>MaxPay</th>\n",
       "      <td>145629.0000</td>\n",
       "      <td>106998.0000</td>\n",
       "      <td>187000.0</td>\n",
       "      <td>135000.0000</td>\n",
       "      <td>142261.0000</td>\n",
       "    </tr>\n",
       "    <tr>\n",
       "      <th>MinPay</th>\n",
       "      <td>112021.0000</td>\n",
       "      <td>82304.0000</td>\n",
       "      <td>124406.0</td>\n",
       "      <td>90000.0000</td>\n",
       "      <td>128797.0000</td>\n",
       "    </tr>\n",
       "    <tr>\n",
       "      <th>OfferingType</th>\n",
       "      <td>Permanent</td>\n",
       "      <td>Permanent</td>\n",
       "      <td>Senior Executive Service (SES)</td>\n",
       "      <td>3 years</td>\n",
       "      <td>3 years</td>\n",
       "    </tr>\n",
       "    <tr>\n",
       "      <th>OrganizationName</th>\n",
       "      <td>Organization of the Joint Chiefs of Staff</td>\n",
       "      <td>Army National Guard Units (Title 32/Title 5)</td>\n",
       "      <td>Immediate Office of the Assistant Secretary fo...</td>\n",
       "      <td>Air Education and Training Command</td>\n",
       "      <td>U.S. Army War College</td>\n",
       "    </tr>\n",
       "    <tr>\n",
       "      <th>PayType</th>\n",
       "      <td>Per Year</td>\n",
       "      <td>Per Year</td>\n",
       "      <td>Per Year</td>\n",
       "      <td>Per Year</td>\n",
       "      <td>Per Year</td>\n",
       "    </tr>\n",
       "    <tr>\n",
       "      <th>PositionEndDate</th>\n",
       "      <td>2018-01-02</td>\n",
       "      <td>2018-01-03</td>\n",
       "      <td>2018-01-02</td>\n",
       "      <td>2018-02-06</td>\n",
       "      <td>2018-01-22</td>\n",
       "    </tr>\n",
       "    <tr>\n",
       "      <th>PositionID</th>\n",
       "      <td>JCS-18-10095493-DE</td>\n",
       "      <td>NJ-10061764-AR-17-061</td>\n",
       "      <td>VA-17-2015473-17-LB</td>\n",
       "      <td>AUHQ04-17</td>\n",
       "      <td>NEDQ173795</td>\n",
       "    </tr>\n",
       "    <tr>\n",
       "      <th>PositionLocation</th>\n",
       "      <td>Pentagon, Arlington, Virginia</td>\n",
       "      <td>Lawrenceville, New Jersey</td>\n",
       "      <td>Washington DC, District of Columbia</td>\n",
       "      <td>Maxwell AFB, Alabama</td>\n",
       "      <td>Carlisle Barracks, Pennsylvania</td>\n",
       "    </tr>\n",
       "    <tr>\n",
       "      <th>PositionStartDate</th>\n",
       "      <td>2017-12-19</td>\n",
       "      <td>2017-11-29</td>\n",
       "      <td>2017-12-08</td>\n",
       "      <td>2017-12-22</td>\n",
       "      <td>2017-11-20</td>\n",
       "    </tr>\n",
       "    <tr>\n",
       "      <th>PositionTitle</th>\n",
       "      <td>Strategic Communication Analyst</td>\n",
       "      <td>STRATEGIC PLANS AND TRAINING OFFICER</td>\n",
       "      <td>Deputy Chief Information Officer, Strategic So...</td>\n",
       "      <td>Chief Advisory Boards and Strategic Operations</td>\n",
       "      <td>Director of Strategic Studies Institute and US...</td>\n",
       "    </tr>\n",
       "    <tr>\n",
       "      <th>QualificationSummary</th>\n",
       "      <td>You may qualify at the GS-14, if you fulfill t...</td>\n",
       "      <td>GENERAL EXPERIENCE: Experience, education or t...</td>\n",
       "      <td>To meet the minimum qualifications, applicant ...</td>\n",
       "      <td>KNOWLEDGE, SKILLS AND ABILITIES (KSAs): Your q...</td>\n",
       "      <td>In order to qualify, you must meet the educati...</td>\n",
       "    </tr>\n",
       "    <tr>\n",
       "      <th>URI</th>\n",
       "      <td>https://www.usajobs.gov:443/GetJob/ViewDetails...</td>\n",
       "      <td>https://www.usajobs.gov:443/GetJob/ViewDetails...</td>\n",
       "      <td>https://www.usajobs.gov:443/GetJob/ViewDetails...</td>\n",
       "      <td>https://www.usajobs.gov:443/GetJob/ViewDetails...</td>\n",
       "      <td>https://www.usajobs.gov:443/GetJob/ViewDetails...</td>\n",
       "    </tr>\n",
       "  </tbody>\n",
       "</table>\n",
       "</div>"
      ],
      "text/plain": [
       "                                                                      0  \\\n",
       "ApplicationCloseDate                                         2018-01-02   \n",
       "DepartmentName                                    Department of Defense   \n",
       "JobGrade                                                             GS   \n",
       "JobSummary            This position is part of the Organization of t...   \n",
       "MaxPay                                                      145629.0000   \n",
       "MinPay                                                      112021.0000   \n",
       "OfferingType                                                  Permanent   \n",
       "OrganizationName              Organization of the Joint Chiefs of Staff   \n",
       "PayType                                                        Per Year   \n",
       "PositionEndDate                                              2018-01-02   \n",
       "PositionID                                           JCS-18-10095493-DE   \n",
       "PositionLocation                          Pentagon, Arlington, Virginia   \n",
       "PositionStartDate                                            2017-12-19   \n",
       "PositionTitle                           Strategic Communication Analyst   \n",
       "QualificationSummary  You may qualify at the GS-14, if you fulfill t...   \n",
       "URI                   https://www.usajobs.gov:443/GetJob/ViewDetails...   \n",
       "\n",
       "                                                                      1  \\\n",
       "ApplicationCloseDate                                         2018-01-03   \n",
       "DepartmentName                                   Department of the Army   \n",
       "JobGrade                                                             GS   \n",
       "JobSummary            This National Guard position is for a STRATEGI...   \n",
       "MaxPay                                                      106998.0000   \n",
       "MinPay                                                       82304.0000   \n",
       "OfferingType                                                  Permanent   \n",
       "OrganizationName           Army National Guard Units (Title 32/Title 5)   \n",
       "PayType                                                        Per Year   \n",
       "PositionEndDate                                              2018-01-03   \n",
       "PositionID                                        NJ-10061764-AR-17-061   \n",
       "PositionLocation                              Lawrenceville, New Jersey   \n",
       "PositionStartDate                                            2017-11-29   \n",
       "PositionTitle                      STRATEGIC PLANS AND TRAINING OFFICER   \n",
       "QualificationSummary  GENERAL EXPERIENCE: Experience, education or t...   \n",
       "URI                   https://www.usajobs.gov:443/GetJob/ViewDetails...   \n",
       "\n",
       "                                                                      2  \\\n",
       "ApplicationCloseDate                                         2018-01-02   \n",
       "DepartmentName                           Department of Veterans Affairs   \n",
       "JobGrade                                                             ES   \n",
       "JobSummary            The Deputy Chief Information Officer (DCIO), S...   \n",
       "MaxPay                                                         187000.0   \n",
       "MinPay                                                         124406.0   \n",
       "OfferingType                             Senior Executive Service (SES)   \n",
       "OrganizationName      Immediate Office of the Assistant Secretary fo...   \n",
       "PayType                                                        Per Year   \n",
       "PositionEndDate                                              2018-01-02   \n",
       "PositionID                                          VA-17-2015473-17-LB   \n",
       "PositionLocation                    Washington DC, District of Columbia   \n",
       "PositionStartDate                                            2017-12-08   \n",
       "PositionTitle         Deputy Chief Information Officer, Strategic So...   \n",
       "QualificationSummary  To meet the minimum qualifications, applicant ...   \n",
       "URI                   https://www.usajobs.gov:443/GetJob/ViewDetails...   \n",
       "\n",
       "                                                                      3  \\\n",
       "ApplicationCloseDate                                         2018-02-06   \n",
       "DepartmentName                              Department of the Air Force   \n",
       "JobGrade                                                             AD   \n",
       "JobSummary            The mission of the United States Air Force is ...   \n",
       "MaxPay                                                      135000.0000   \n",
       "MinPay                                                       90000.0000   \n",
       "OfferingType                                                    3 years   \n",
       "OrganizationName                     Air Education and Training Command   \n",
       "PayType                                                        Per Year   \n",
       "PositionEndDate                                              2018-02-06   \n",
       "PositionID                                                    AUHQ04-17   \n",
       "PositionLocation                                   Maxwell AFB, Alabama   \n",
       "PositionStartDate                                            2017-12-22   \n",
       "PositionTitle            Chief Advisory Boards and Strategic Operations   \n",
       "QualificationSummary  KNOWLEDGE, SKILLS AND ABILITIES (KSAs): Your q...   \n",
       "URI                   https://www.usajobs.gov:443/GetJob/ViewDetails...   \n",
       "\n",
       "                                                                      4  \n",
       "ApplicationCloseDate                                         2018-01-22  \n",
       "DepartmentName                                   Department of the Army  \n",
       "JobGrade                                                             AD  \n",
       "JobSummary            The Army War College is the U.S. Army&#39;s mo...  \n",
       "MaxPay                                                      142261.0000  \n",
       "MinPay                                                      128797.0000  \n",
       "OfferingType                                                    3 years  \n",
       "OrganizationName                                  U.S. Army War College  \n",
       "PayType                                                        Per Year  \n",
       "PositionEndDate                                              2018-01-22  \n",
       "PositionID                                                   NEDQ173795  \n",
       "PositionLocation                        Carlisle Barracks, Pennsylvania  \n",
       "PositionStartDate                                            2017-11-20  \n",
       "PositionTitle         Director of Strategic Studies Institute and US...  \n",
       "QualificationSummary  In order to qualify, you must meet the educati...  \n",
       "URI                   https://www.usajobs.gov:443/GetJob/ViewDetails...  "
      ]
     },
     "execution_count": 336,
     "metadata": {},
     "output_type": "execute_result"
    }
   ],
   "source": [
    "df.head().transpose()"
   ]
  }
 ],
 "metadata": {
  "kernelspec": {
   "display_name": "Python 3",
   "language": "python",
   "name": "python3"
  },
  "language_info": {
   "codemirror_mode": {
    "name": "ipython",
    "version": 3
   },
   "file_extension": ".py",
   "mimetype": "text/x-python",
   "name": "python",
   "nbconvert_exporter": "python",
   "pygments_lexer": "ipython3",
   "version": "3.6.1"
  }
 },
 "nbformat": 4,
 "nbformat_minor": 2
}
