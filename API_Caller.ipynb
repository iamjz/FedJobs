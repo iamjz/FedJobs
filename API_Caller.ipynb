{
 "cells": [
  {
   "cell_type": "markdown",
   "metadata": {},
   "source": [
    "This notebook hits the federal USA jobs database to retrieve both current and archived jobs based on given keywords and/or dates. **To get this working, make sure you have a folder called \"collected_data\" in the same directory level as this notebook.** The collected datasets will be dropped into that folder. \n",
    "\n",
    "To use this, simply input your parameters in the section below. Click on the \"Cell\" tab then \"Run All\". \n",
    "\n",
    "API Documentation: https://developer.usajobs.gov/API-Reference/GET-api-Search"
   ]
  },
  {
   "cell_type": "markdown",
   "metadata": {},
   "source": [
    "### FILENAME CONVENTIONS:\n",
    "\n",
    "See examples below:\n",
    "\n",
    "**datascience_N_346_20171223111701.csv** for current jobs:\n",
    "\n",
    "* Keyword = datascience\n",
    "* Y/N (Y = Archived/N = Current)\n",
    "* Number of results = 346\n",
    "* Current Datetime stamp = 20171223111701 (2017-12-23 on 11:11am)\n",
    "\n",
    "**geospatial_Y_4_20171223112709_12012016_12302016.csv** for archived jobs:\n",
    "\n",
    "* Keyword = geospatial\n",
    "* Y/N (Y = Archived/N = Current)\n",
    "* Number of results = 4\n",
    "* Current Datetime stamp = 20171223112709 (2017-12-23 on 11:27am)\n",
    "* From Archived Date = 12012016 (12/01/2016)\n",
    "* To Archived Date = 12302016 (12/30/2016)\n",
    "\n",
    "\n"
   ]
  },
  {
   "cell_type": "markdown",
   "metadata": {},
   "source": [
    "## INPUT PARAMETERS:"
   ]
  },
  {
   "cell_type": "code",
   "execution_count": 497,
   "metadata": {
    "collapsed": true
   },
   "outputs": [],
   "source": [
    "# API Key \n",
    "# Request one at:\n",
    "# https://developer.usajobs.gov/APIRequest/Index\n",
    "\n",
    "apiKey = \"REQUEST YOUR API KEY AND INSERT IT HERE\""
   ]
  },
  {
   "cell_type": "code",
   "execution_count": 498,
   "metadata": {
    "collapsed": true
   },
   "outputs": [],
   "source": [
    "# specifies whether results are current job postings or archived job postings\n",
    "# Y = Archived posts\n",
    "# N = Current posts\n",
    "\n",
    "archive = \"N\""
   ]
  },
  {
   "cell_type": "code",
   "execution_count": 499,
   "metadata": {
    "collapsed": true
   },
   "outputs": [],
   "source": [
    "# specifies the number of results to retrieve\n",
    "# only for current searches\n",
    "\n",
    "resultsPerPage = 500"
   ]
  },
  {
   "cell_type": "code",
   "execution_count": 500,
   "metadata": {
    "collapsed": true
   },
   "outputs": [],
   "source": [
    "# date range\n",
    "# ONLY FOR ARCHIVED JOB POSTINGS\n",
    "\n",
    "# format: MM/DD/YYYY\n",
    "\n",
    "startDate = \"01/01/2016\"\n",
    "endDate = \"12/31/2016\""
   ]
  },
  {
   "cell_type": "code",
   "execution_count": 501,
   "metadata": {
    "collapsed": true
   },
   "outputs": [],
   "source": [
    "# Position Title\n",
    "\n",
    "title = \"analysis\""
   ]
  },
  {
   "cell_type": "markdown",
   "metadata": {},
   "source": [
    "## CODE BELOW:"
   ]
  },
  {
   "cell_type": "code",
   "execution_count": 502,
   "metadata": {
    "collapsed": true
   },
   "outputs": [],
   "source": [
    "import requests\n",
    "import pandas as pd\n",
    "from bs4 import BeautifulSoup\n",
    "import numpy as np\n",
    "import time\n",
    "import datetime\n",
    "import os"
   ]
  },
  {
   "cell_type": "code",
   "execution_count": 503,
   "metadata": {
    "collapsed": true
   },
   "outputs": [],
   "source": [
    "urlSearch = \"https://data.usajobs.gov/api/search?Keyword=\" + title + \"&KeywordFilter=All\""
   ]
  },
  {
   "cell_type": "code",
   "execution_count": 504,
   "metadata": {
    "collapsed": true
   },
   "outputs": [],
   "source": [
    "urlArchive = \"https://data.usajobs.gov/api/Archive?PositionTitle=\" + title"
   ]
  },
  {
   "cell_type": "code",
   "execution_count": 505,
   "metadata": {
    "collapsed": true
   },
   "outputs": [],
   "source": [
    "if (archive == \"Y\"):\n",
    "    url = urlArchive\n",
    "    url = url + \"&PostingStartDate=\" + startDate\n",
    "    url = url + \"&PostingEndDate=\" + endDate\n",
    "else:\n",
    "    url = urlSearch\n",
    "    url = url +  \"&ResultsPerPage=\" + str(resultsPerPage) "
   ]
  },
  {
   "cell_type": "code",
   "execution_count": 506,
   "metadata": {},
   "outputs": [
    {
     "name": "stdout",
     "output_type": "stream",
     "text": [
      "API GET URL CALL:\n",
      "https://data.usajobs.gov/api/search?Keyword=analysis&KeywordFilter=All&ResultsPerPage=500\n"
     ]
    }
   ],
   "source": [
    "print(\"API GET URL CALL:\")\n",
    "print(url)"
   ]
  },
  {
   "cell_type": "code",
   "execution_count": 507,
   "metadata": {
    "collapsed": true
   },
   "outputs": [],
   "source": [
    "headers = {\"Authorization-Key\": apiKey}"
   ]
  },
  {
   "cell_type": "code",
   "execution_count": 508,
   "metadata": {},
   "outputs": [
    {
     "name": "stderr",
     "output_type": "stream",
     "text": [
      "C:\\Users\\Jacky Zhao\\Anaconda3\\lib\\site-packages\\requests\\packages\\urllib3\\connectionpool.py:852: InsecureRequestWarning: Unverified HTTPS request is being made. Adding certificate verification is strongly advised. See: https://urllib3.readthedocs.io/en/latest/advanced-usage.html#ssl-warnings\n",
      "  InsecureRequestWarning)\n"
     ]
    }
   ],
   "source": [
    "res = requests.get(url, headers = headers, verify = False)"
   ]
  },
  {
   "cell_type": "code",
   "execution_count": 509,
   "metadata": {},
   "outputs": [
    {
     "name": "stdout",
     "output_type": "stream",
     "text": [
      "API Response code:  200\n"
     ]
    }
   ],
   "source": [
    "print(\"API Response code: \", res.status_code)"
   ]
  },
  {
   "cell_type": "code",
   "execution_count": 510,
   "metadata": {
    "collapsed": true
   },
   "outputs": [],
   "source": [
    "response = res.json()"
   ]
  },
  {
   "cell_type": "code",
   "execution_count": 511,
   "metadata": {
    "collapsed": true
   },
   "outputs": [],
   "source": [
    "def parseResults(searchResults):\n",
    "    \n",
    "    ApplicationCloseDate = []\n",
    "    ApplyURI = []\n",
    "    JobGrade = []\n",
    "    PositionStartDate = []\n",
    "    PositionEndDate = []\n",
    "    PositionID = []\n",
    "    PositionLocation = []\n",
    "    PositionLocationDisplay = []\n",
    "    QualificationSummary = []\n",
    "    OrganizationName = []\n",
    "    DepartmentName = []\n",
    "    OfferingType = []\n",
    "    MinPay = []\n",
    "    MaxPay = []\n",
    "    PayType = []\n",
    "    PositionTitle = []\n",
    "    JobSummary = []\n",
    "    \n",
    "    for r in searchResults:\n",
    "        if 'MatchedObjectDescriptor' in r:            \n",
    "            rr =  r.get(\"MatchedObjectDescriptor\", {})   \n",
    "            \n",
    "            r_ApplicationCloseDate = rr.get(\"ApplicationCloseDate\", None)\n",
    "            r_ApplyURI = rr.get(\"PositionURI\", None)\n",
    "            r_JobGrade = rr.get(\"JobGrade\", None)[0][\"Code\"]\n",
    "            r_PositionStartDate = rr.get(\"PositionStartDate\", None)\n",
    "            r_PositionEndDate = rr.get(\"PositionEndDate\", None)\n",
    "            r_PositionID = rr.get(\"PositionID\", None)\n",
    "            r_PositionLocationDisplay = rr.get(\"PositionLocationDisplay\", None)\n",
    "            r_QualificationSummary = rr.get(\"QualificationSummary\", None)            \n",
    "            r_OrganizationName = rr.get(\"OrganizationName\", None)\n",
    "            r_DepartmentName = rr.get(\"DepartmentName\", None)    \n",
    "            r_PositionLocation = rr.get(\"PositionLocation\", None)       \n",
    "            r_PositionTitle = rr.get(\"PositionTitle\", None)\n",
    "            \n",
    "            locations = []\n",
    "            for l in r_PositionLocation:\n",
    "                locations.append(l.get(\"CityName\", None)) \n",
    "            locations = '|'.join(str(locs) for locs in locations)\n",
    "            \n",
    "            r_OfferingType = rr.get(\"PositionOfferingType\", None)[0][\"Name\"]\n",
    "            r_MinPay = rr.get(\"PositionRemuneration\")[0][\"MinimumRange\"]\n",
    "            r_MaxPay = rr.get(\"PositionRemuneration\")[0][\"MaximumRange\"]\n",
    "            r_PayType = rr.get(\"PositionRemuneration\")[0][\"RateIntervalCode\"] \n",
    "            r_JobSummary = rr.get(\"UserArea\", {}).get(\"Details\", {}).get(\"JobSummary\", None)\n",
    "            \n",
    "            ApplicationCloseDate.append(r_ApplicationCloseDate)\n",
    "            ApplyURI.append(r_ApplyURI)\n",
    "            JobGrade.append(r_JobGrade)\n",
    "            PositionEndDate.append(r_PositionEndDate)\n",
    "            PositionID.append(r_PositionID)\n",
    "            PositionLocationDisplay.append(r_PositionLocationDisplay)\n",
    "            QualificationSummary.append(r_QualificationSummary)\n",
    "            OrganizationName.append(r_OrganizationName)\n",
    "            DepartmentName.append(r_DepartmentName)\n",
    "            PositionLocation.append(locations)\n",
    "            OfferingType.append(r_OfferingType)\n",
    "            MinPay.append(r_MinPay)\n",
    "            MaxPay.append(r_MaxPay)\n",
    "            PayType.append(r_PayType)\n",
    "            PositionStartDate.append(r_PositionStartDate)\n",
    "            PositionTitle.append(r_PositionTitle)\n",
    "            JobSummary.append(r_JobSummary)\n",
    "\n",
    "    return pd.DataFrame({\n",
    "            \"PositionID\": PositionID,\n",
    "            \"ApplicationCloseDate\": ApplicationCloseDate,\n",
    "            \"JobGrade\": JobGrade,\n",
    "            \"PositionEndDate\": PositionEndDate,   \n",
    "            \"OrganizationName\": OrganizationName, \n",
    "            \"DepartmentName\": DepartmentName,\n",
    "            \"QualificationSummary\": QualificationSummary,\n",
    "            \"URI\": ApplyURI,\n",
    "            \"PositionLocation\": PositionLocation,\n",
    "            \"OfferingType\": OfferingType,\n",
    "            \"MinPay\": MinPay,\n",
    "            \"MaxPay\": MaxPay,\n",
    "            \"PayType\": PayType,\n",
    "            \"PositionStartDate\": PositionStartDate,\n",
    "            \"PositionTitle\": PositionTitle,\n",
    "            \"JobSummary\": JobSummary\n",
    "    })"
   ]
  },
  {
   "cell_type": "code",
   "execution_count": 512,
   "metadata": {
    "collapsed": true
   },
   "outputs": [],
   "source": [
    "def convertToDataframe(res):\n",
    "    \n",
    "    response = res.json()\n",
    "    print(\"==============================================================\")\n",
    "    if ('SearchResult' in response):\n",
    "        \n",
    "        if (archive != \"Y\"):\n",
    "            searchResultNumber = response.get(\"SearchResult\", {}).get(\"SearchResultCountAll\", 0)\n",
    "        else:\n",
    "            searchResultNumber = response.get(\"SearchResult\", {}).get(\"SearchResultCount\", 0)\n",
    "            \n",
    "        print(searchResultNumber, \"results found in API response...\")        \n",
    "        \n",
    "        if (searchResultNumber > 0):\n",
    "            searchResults = response.get(\"SearchResult\", {}).get(\"SearchResultItems\", None)\n",
    "            \n",
    "            if (len(searchResults) > 0):\n",
    "                t0 = time.time()\n",
    "                print(\"Parsing in progress...\")\n",
    "                df = parseResults(searchResults).reset_index(drop = True)\n",
    "                t1 = time.time()\n",
    "                print(\"Parse complete. \\nDuration: \", round(t1-t0, 5), \" seconds.\")\n",
    "                print(\"Number of records: \", len(df))\n",
    "                return df\n",
    "            else:\n",
    "                print(\"No Search Results.\")        \n",
    "        else:\n",
    "            print(\"Search Result Number = 0.\")                \n",
    "    else:\n",
    "        print(\"No SearchResult found in json response.\")   "
   ]
  },
  {
   "cell_type": "code",
   "execution_count": 513,
   "metadata": {},
   "outputs": [
    {
     "name": "stdout",
     "output_type": "stream",
     "text": [
      "==============================================================\n",
      "1107 results found in API response...\n",
      "Parsing in progress...\n",
      "Parse complete. \n",
      "Duration:  0.00903  seconds.\n",
      "Number of records:  500\n"
     ]
    }
   ],
   "source": [
    "df = convertToDataframe(res)"
   ]
  },
  {
   "cell_type": "code",
   "execution_count": 514,
   "metadata": {},
   "outputs": [
    {
     "name": "stdout",
     "output_type": "stream",
     "text": [
      "analysis_N_500_20171223141842.csv\n"
     ]
    }
   ],
   "source": [
    "now = datetime.datetime.now()\n",
    "\n",
    "nowDate = str(now).split(\" \")[0].replace(\"-\", \"\")\n",
    "nowHour = str(now).split(\" \")[1].split(\":\")[0]\n",
    "nowMin = str(now).split(\" \")[1].split(\":\")[1]\n",
    "nowSec = str(now).split(\" \")[1].split(\":\")[2].split(\".\")[0]\n",
    "\n",
    "nowString = nowDate + nowHour + nowMin + nowSec\n",
    "\n",
    "searchDates = \"\"\n",
    "\n",
    "if archive == \"Y\":\n",
    "    searchDates = \"_\" + str(startDate) + \"_\" + str(endDate)\n",
    "    searchDates = searchDates.replace(\"/\", \"\")\n",
    "\n",
    "fileName = title.replace(\";\", \"\") + \"_\" + archive + \"_\" + str(len(df)) + \"_\" + nowString + searchDates + \".csv\"\n",
    "\n",
    "print(fileName)"
   ]
  },
  {
   "cell_type": "code",
   "execution_count": 515,
   "metadata": {
    "collapsed": true
   },
   "outputs": [],
   "source": [
    "df.to_csv(os.path.join(\"collected_data\", fileName), index = False)"
   ]
  },
  {
   "cell_type": "code",
   "execution_count": 516,
   "metadata": {
    "scrolled": false
   },
   "outputs": [
    {
     "data": {
      "text/html": [
       "<div>\n",
       "<style>\n",
       "    .dataframe thead tr:only-child th {\n",
       "        text-align: right;\n",
       "    }\n",
       "\n",
       "    .dataframe thead th {\n",
       "        text-align: left;\n",
       "    }\n",
       "\n",
       "    .dataframe tbody tr th {\n",
       "        vertical-align: top;\n",
       "    }\n",
       "</style>\n",
       "<table border=\"1\" class=\"dataframe\">\n",
       "  <thead>\n",
       "    <tr style=\"text-align: right;\">\n",
       "      <th></th>\n",
       "      <th>0</th>\n",
       "      <th>1</th>\n",
       "      <th>2</th>\n",
       "      <th>3</th>\n",
       "      <th>4</th>\n",
       "    </tr>\n",
       "  </thead>\n",
       "  <tbody>\n",
       "    <tr>\n",
       "      <th>ApplicationCloseDate</th>\n",
       "      <td>2018-03-31</td>\n",
       "      <td>2018-03-31</td>\n",
       "      <td>2018-03-31</td>\n",
       "      <td>2017-12-29</td>\n",
       "      <td>2018-11-09</td>\n",
       "    </tr>\n",
       "    <tr>\n",
       "      <th>DepartmentName</th>\n",
       "      <td>Department of the Air Force</td>\n",
       "      <td>Department of the Air Force</td>\n",
       "      <td>Department of the Air Force</td>\n",
       "      <td>Other Agencies and Independent Organizations</td>\n",
       "      <td>Department of the Air Force</td>\n",
       "    </tr>\n",
       "    <tr>\n",
       "      <th>JobGrade</th>\n",
       "      <td>GS</td>\n",
       "      <td>GS</td>\n",
       "      <td>GS</td>\n",
       "      <td>CU</td>\n",
       "      <td>GS</td>\n",
       "    </tr>\n",
       "    <tr>\n",
       "      <th>JobSummary</th>\n",
       "      <td>The mission of the United States Air Force is ...</td>\n",
       "      <td>The mission of the United States Air Force is ...</td>\n",
       "      <td>The mission of the United States Air Force is ...</td>\n",
       "      <td>At NCUA, differences make a difference. We val...</td>\n",
       "      <td>The mission of the United States Air Force is ...</td>\n",
       "    </tr>\n",
       "    <tr>\n",
       "      <th>MaxPay</th>\n",
       "      <td>155073.0000</td>\n",
       "      <td>155073.0000</td>\n",
       "      <td>155073.0000</td>\n",
       "      <td>190357.0000</td>\n",
       "      <td>134776.0000</td>\n",
       "    </tr>\n",
       "    <tr>\n",
       "      <th>MinPay</th>\n",
       "      <td>32844.0000</td>\n",
       "      <td>32844.0000</td>\n",
       "      <td>32844.0000</td>\n",
       "      <td>121246.0000</td>\n",
       "      <td>18526.0000</td>\n",
       "    </tr>\n",
       "    <tr>\n",
       "      <th>OfferingType</th>\n",
       "      <td>Multiple Appointment Types</td>\n",
       "      <td>Multiple Appointment Types</td>\n",
       "      <td>Multiple Appointment Types</td>\n",
       "      <td>4 years</td>\n",
       "      <td>Multiple Appointment Types</td>\n",
       "    </tr>\n",
       "    <tr>\n",
       "      <th>OrganizationName</th>\n",
       "      <td>Air Force Personnel Center</td>\n",
       "      <td>Air Force Personnel Center</td>\n",
       "      <td>Air Force Personnel Center</td>\n",
       "      <td>National Credit Union Administration</td>\n",
       "      <td>Air Force Materiel Command</td>\n",
       "    </tr>\n",
       "    <tr>\n",
       "      <th>PayType</th>\n",
       "      <td>Per Year</td>\n",
       "      <td>Per Year</td>\n",
       "      <td>Per Year</td>\n",
       "      <td>Per Year</td>\n",
       "      <td>Per Year</td>\n",
       "    </tr>\n",
       "    <tr>\n",
       "      <th>PositionEndDate</th>\n",
       "      <td>2018-03-31</td>\n",
       "      <td>2018-03-31</td>\n",
       "      <td>2018-03-31</td>\n",
       "      <td>2017-12-29</td>\n",
       "      <td>2018-11-09</td>\n",
       "    </tr>\n",
       "    <tr>\n",
       "      <th>PositionID</th>\n",
       "      <td>AFPC-ACQEHA-10081352-0560</td>\n",
       "      <td>AFPC-FMEDHA-10085353-0560</td>\n",
       "      <td>AFPC-ACQEHA-10078879-0343</td>\n",
       "      <td>EandI-1829-10092234</td>\n",
       "      <td>AFMC-10071846-DHA-GS0560-SP</td>\n",
       "    </tr>\n",
       "    <tr>\n",
       "      <th>PositionLocation</th>\n",
       "      <td>Gunter AFB, Alabama|Edwards AFB, California|El...</td>\n",
       "      <td>Eielson AFB, Alaska|Elmendorf AFB, Alaska|Gunt...</td>\n",
       "      <td>Gunter AFB, Alabama|Redstone Arsenal, Alabama|...</td>\n",
       "      <td>Alexandria, Virginia</td>\n",
       "      <td>Davis Monthan AFB, Arizona|Davis Monthan AFB, ...</td>\n",
       "    </tr>\n",
       "    <tr>\n",
       "      <th>PositionStartDate</th>\n",
       "      <td>2017-12-01</td>\n",
       "      <td>2017-12-01</td>\n",
       "      <td>2017-12-01</td>\n",
       "      <td>2017-12-08</td>\n",
       "      <td>2017-11-10</td>\n",
       "    </tr>\n",
       "    <tr>\n",
       "      <th>PositionTitle</th>\n",
       "      <td>Budget Analysis</td>\n",
       "      <td>BUDGET ANALYSIS</td>\n",
       "      <td>Management and Program Analysis</td>\n",
       "      <td>Program Analysis Officer (Virtual Examination)</td>\n",
       "      <td>Budget Analysis - Direct Hire Authority</td>\n",
       "    </tr>\n",
       "    <tr>\n",
       "      <th>QualificationSummary</th>\n",
       "      <td>SPECIALIZED EXPERIENCE:\\nGS-05: At least 3 yea...</td>\n",
       "      <td>SPECIALIZED EXPERIENCE:\\nGS-05: At least 3 yea...</td>\n",
       "      <td>SPECIALIZED EXPERIENCE:\\nGS-05: Three years of...</td>\n",
       "      <td>Applicants must meet the following requirement...</td>\n",
       "      <td>EXPERIENCE: Applicants will be rated in accord...</td>\n",
       "    </tr>\n",
       "    <tr>\n",
       "      <th>URI</th>\n",
       "      <td>https://www.usajobs.gov:443/GetJob/ViewDetails...</td>\n",
       "      <td>https://www.usajobs.gov:443/GetJob/ViewDetails...</td>\n",
       "      <td>https://www.usajobs.gov:443/GetJob/ViewDetails...</td>\n",
       "      <td>https://www.usajobs.gov:443/GetJob/ViewDetails...</td>\n",
       "      <td>https://www.usajobs.gov:443/GetJob/ViewDetails...</td>\n",
       "    </tr>\n",
       "  </tbody>\n",
       "</table>\n",
       "</div>"
      ],
      "text/plain": [
       "                                                                      0  \\\n",
       "ApplicationCloseDate                                         2018-03-31   \n",
       "DepartmentName                              Department of the Air Force   \n",
       "JobGrade                                                             GS   \n",
       "JobSummary            The mission of the United States Air Force is ...   \n",
       "MaxPay                                                      155073.0000   \n",
       "MinPay                                                       32844.0000   \n",
       "OfferingType                                 Multiple Appointment Types   \n",
       "OrganizationName                             Air Force Personnel Center   \n",
       "PayType                                                        Per Year   \n",
       "PositionEndDate                                              2018-03-31   \n",
       "PositionID                                    AFPC-ACQEHA-10081352-0560   \n",
       "PositionLocation      Gunter AFB, Alabama|Edwards AFB, California|El...   \n",
       "PositionStartDate                                            2017-12-01   \n",
       "PositionTitle                                           Budget Analysis   \n",
       "QualificationSummary  SPECIALIZED EXPERIENCE:\\nGS-05: At least 3 yea...   \n",
       "URI                   https://www.usajobs.gov:443/GetJob/ViewDetails...   \n",
       "\n",
       "                                                                      1  \\\n",
       "ApplicationCloseDate                                         2018-03-31   \n",
       "DepartmentName                              Department of the Air Force   \n",
       "JobGrade                                                             GS   \n",
       "JobSummary            The mission of the United States Air Force is ...   \n",
       "MaxPay                                                      155073.0000   \n",
       "MinPay                                                       32844.0000   \n",
       "OfferingType                                 Multiple Appointment Types   \n",
       "OrganizationName                             Air Force Personnel Center   \n",
       "PayType                                                        Per Year   \n",
       "PositionEndDate                                              2018-03-31   \n",
       "PositionID                                    AFPC-FMEDHA-10085353-0560   \n",
       "PositionLocation      Eielson AFB, Alaska|Elmendorf AFB, Alaska|Gunt...   \n",
       "PositionStartDate                                            2017-12-01   \n",
       "PositionTitle                                           BUDGET ANALYSIS   \n",
       "QualificationSummary  SPECIALIZED EXPERIENCE:\\nGS-05: At least 3 yea...   \n",
       "URI                   https://www.usajobs.gov:443/GetJob/ViewDetails...   \n",
       "\n",
       "                                                                      2  \\\n",
       "ApplicationCloseDate                                         2018-03-31   \n",
       "DepartmentName                              Department of the Air Force   \n",
       "JobGrade                                                             GS   \n",
       "JobSummary            The mission of the United States Air Force is ...   \n",
       "MaxPay                                                      155073.0000   \n",
       "MinPay                                                       32844.0000   \n",
       "OfferingType                                 Multiple Appointment Types   \n",
       "OrganizationName                             Air Force Personnel Center   \n",
       "PayType                                                        Per Year   \n",
       "PositionEndDate                                              2018-03-31   \n",
       "PositionID                                    AFPC-ACQEHA-10078879-0343   \n",
       "PositionLocation      Gunter AFB, Alabama|Redstone Arsenal, Alabama|...   \n",
       "PositionStartDate                                            2017-12-01   \n",
       "PositionTitle                           Management and Program Analysis   \n",
       "QualificationSummary  SPECIALIZED EXPERIENCE:\\nGS-05: Three years of...   \n",
       "URI                   https://www.usajobs.gov:443/GetJob/ViewDetails...   \n",
       "\n",
       "                                                                      3  \\\n",
       "ApplicationCloseDate                                         2017-12-29   \n",
       "DepartmentName             Other Agencies and Independent Organizations   \n",
       "JobGrade                                                             CU   \n",
       "JobSummary            At NCUA, differences make a difference. We val...   \n",
       "MaxPay                                                      190357.0000   \n",
       "MinPay                                                      121246.0000   \n",
       "OfferingType                                                    4 years   \n",
       "OrganizationName                   National Credit Union Administration   \n",
       "PayType                                                        Per Year   \n",
       "PositionEndDate                                              2017-12-29   \n",
       "PositionID                                          EandI-1829-10092234   \n",
       "PositionLocation                                   Alexandria, Virginia   \n",
       "PositionStartDate                                            2017-12-08   \n",
       "PositionTitle            Program Analysis Officer (Virtual Examination)   \n",
       "QualificationSummary  Applicants must meet the following requirement...   \n",
       "URI                   https://www.usajobs.gov:443/GetJob/ViewDetails...   \n",
       "\n",
       "                                                                      4  \n",
       "ApplicationCloseDate                                         2018-11-09  \n",
       "DepartmentName                              Department of the Air Force  \n",
       "JobGrade                                                             GS  \n",
       "JobSummary            The mission of the United States Air Force is ...  \n",
       "MaxPay                                                      134776.0000  \n",
       "MinPay                                                       18526.0000  \n",
       "OfferingType                                 Multiple Appointment Types  \n",
       "OrganizationName                             Air Force Materiel Command  \n",
       "PayType                                                        Per Year  \n",
       "PositionEndDate                                              2018-11-09  \n",
       "PositionID                                  AFMC-10071846-DHA-GS0560-SP  \n",
       "PositionLocation      Davis Monthan AFB, Arizona|Davis Monthan AFB, ...  \n",
       "PositionStartDate                                            2017-11-10  \n",
       "PositionTitle                   Budget Analysis - Direct Hire Authority  \n",
       "QualificationSummary  EXPERIENCE: Applicants will be rated in accord...  \n",
       "URI                   https://www.usajobs.gov:443/GetJob/ViewDetails...  "
      ]
     },
     "execution_count": 516,
     "metadata": {},
     "output_type": "execute_result"
    }
   ],
   "source": [
    "df.head().transpose()"
   ]
  }
 ],
 "metadata": {
  "kernelspec": {
   "display_name": "Python 3",
   "language": "python",
   "name": "python3"
  },
  "language_info": {
   "codemirror_mode": {
    "name": "ipython",
    "version": 3
   },
   "file_extension": ".py",
   "mimetype": "text/x-python",
   "name": "python",
   "nbconvert_exporter": "python",
   "pygments_lexer": "ipython3",
   "version": "3.6.1"
  }
 },
 "nbformat": 4,
 "nbformat_minor": 2
}
